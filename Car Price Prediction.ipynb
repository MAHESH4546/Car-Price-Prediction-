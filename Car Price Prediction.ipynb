{
 "cells": [
  {
   "cell_type": "code",
   "execution_count": 1,
   "id": "81dab012",
   "metadata": {},
   "outputs": [],
   "source": [
    "import pandas as pd\n",
    "import numpy as np\n",
    "import matplotlib.pyplot as plt\n",
    "%matplotlib inline\n",
    "import seaborn as sns"
   ]
  },
  {
   "cell_type": "code",
   "execution_count": null,
   "id": "68fa4d13",
   "metadata": {},
   "outputs": [],
   "source": []
  },
  {
   "cell_type": "code",
   "execution_count": 2,
   "id": "0cc71dc2",
   "metadata": {},
   "outputs": [],
   "source": [
    "dfcars = pd.read_excel(r\"C:\\Users\\mahesh mahajan\\Desktop\\data set\\Car Price\\Cardekho Dataset.xlsx\")"
   ]
  },
  {
   "cell_type": "code",
   "execution_count": 3,
   "id": "bb12b16a",
   "metadata": {},
   "outputs": [
    {
     "data": {
      "text/html": [
       "<div>\n",
       "<style scoped>\n",
       "    .dataframe tbody tr th:only-of-type {\n",
       "        vertical-align: middle;\n",
       "    }\n",
       "\n",
       "    .dataframe tbody tr th {\n",
       "        vertical-align: top;\n",
       "    }\n",
       "\n",
       "    .dataframe thead th {\n",
       "        text-align: right;\n",
       "    }\n",
       "</style>\n",
       "<table border=\"1\" class=\"dataframe\">\n",
       "  <thead>\n",
       "    <tr style=\"text-align: right;\">\n",
       "      <th></th>\n",
       "      <th>name</th>\n",
       "      <th>year</th>\n",
       "      <th>selling_price</th>\n",
       "      <th>km_driven</th>\n",
       "      <th>fuel</th>\n",
       "      <th>seller_type</th>\n",
       "      <th>transmission</th>\n",
       "      <th>owner</th>\n",
       "      <th>mileage(km/ltr/kg)</th>\n",
       "      <th>engine</th>\n",
       "      <th>max_power</th>\n",
       "      <th>seats</th>\n",
       "    </tr>\n",
       "  </thead>\n",
       "  <tbody>\n",
       "    <tr>\n",
       "      <th>0</th>\n",
       "      <td>Maruti Swift Dzire VDI</td>\n",
       "      <td>2014</td>\n",
       "      <td>450000</td>\n",
       "      <td>145500</td>\n",
       "      <td>Diesel</td>\n",
       "      <td>Individual</td>\n",
       "      <td>Manual</td>\n",
       "      <td>First Owner</td>\n",
       "      <td>23.40</td>\n",
       "      <td>1248.0</td>\n",
       "      <td>74</td>\n",
       "      <td>5.0</td>\n",
       "    </tr>\n",
       "    <tr>\n",
       "      <th>1</th>\n",
       "      <td>Skoda Rapid 1.5 TDI Ambition</td>\n",
       "      <td>2014</td>\n",
       "      <td>370000</td>\n",
       "      <td>120000</td>\n",
       "      <td>Diesel</td>\n",
       "      <td>Individual</td>\n",
       "      <td>Manual</td>\n",
       "      <td>Second Owner</td>\n",
       "      <td>21.14</td>\n",
       "      <td>1498.0</td>\n",
       "      <td>103.52</td>\n",
       "      <td>5.0</td>\n",
       "    </tr>\n",
       "    <tr>\n",
       "      <th>2</th>\n",
       "      <td>Honda City 2017-2020 EXi</td>\n",
       "      <td>2006</td>\n",
       "      <td>158000</td>\n",
       "      <td>140000</td>\n",
       "      <td>Petrol</td>\n",
       "      <td>Individual</td>\n",
       "      <td>Manual</td>\n",
       "      <td>Third Owner</td>\n",
       "      <td>17.70</td>\n",
       "      <td>1497.0</td>\n",
       "      <td>78</td>\n",
       "      <td>5.0</td>\n",
       "    </tr>\n",
       "    <tr>\n",
       "      <th>3</th>\n",
       "      <td>Hyundai i20 Sportz Diesel</td>\n",
       "      <td>2010</td>\n",
       "      <td>225000</td>\n",
       "      <td>127000</td>\n",
       "      <td>Diesel</td>\n",
       "      <td>Individual</td>\n",
       "      <td>Manual</td>\n",
       "      <td>First Owner</td>\n",
       "      <td>23.00</td>\n",
       "      <td>1396.0</td>\n",
       "      <td>90</td>\n",
       "      <td>5.0</td>\n",
       "    </tr>\n",
       "    <tr>\n",
       "      <th>4</th>\n",
       "      <td>Maruti Swift VXI BSIII</td>\n",
       "      <td>2007</td>\n",
       "      <td>130000</td>\n",
       "      <td>120000</td>\n",
       "      <td>Petrol</td>\n",
       "      <td>Individual</td>\n",
       "      <td>Manual</td>\n",
       "      <td>First Owner</td>\n",
       "      <td>16.10</td>\n",
       "      <td>1298.0</td>\n",
       "      <td>88.2</td>\n",
       "      <td>5.0</td>\n",
       "    </tr>\n",
       "  </tbody>\n",
       "</table>\n",
       "</div>"
      ],
      "text/plain": [
       "                           name  year  selling_price  km_driven    fuel  \\\n",
       "0        Maruti Swift Dzire VDI  2014         450000     145500  Diesel   \n",
       "1  Skoda Rapid 1.5 TDI Ambition  2014         370000     120000  Diesel   \n",
       "2      Honda City 2017-2020 EXi  2006         158000     140000  Petrol   \n",
       "3     Hyundai i20 Sportz Diesel  2010         225000     127000  Diesel   \n",
       "4        Maruti Swift VXI BSIII  2007         130000     120000  Petrol   \n",
       "\n",
       "  seller_type transmission         owner  mileage(km/ltr/kg)  engine  \\\n",
       "0  Individual       Manual   First Owner               23.40  1248.0   \n",
       "1  Individual       Manual  Second Owner               21.14  1498.0   \n",
       "2  Individual       Manual   Third Owner               17.70  1497.0   \n",
       "3  Individual       Manual   First Owner               23.00  1396.0   \n",
       "4  Individual       Manual   First Owner               16.10  1298.0   \n",
       "\n",
       "  max_power  seats  \n",
       "0        74    5.0  \n",
       "1    103.52    5.0  \n",
       "2        78    5.0  \n",
       "3        90    5.0  \n",
       "4      88.2    5.0  "
      ]
     },
     "execution_count": 3,
     "metadata": {},
     "output_type": "execute_result"
    }
   ],
   "source": [
    "dfcars.head()"
   ]
  },
  {
   "cell_type": "code",
   "execution_count": 4,
   "id": "e5714450",
   "metadata": {},
   "outputs": [
    {
     "name": "stdout",
     "output_type": "stream",
     "text": [
      "<class 'pandas.core.frame.DataFrame'>\n",
      "RangeIndex: 8128 entries, 0 to 8127\n",
      "Data columns (total 12 columns):\n",
      " #   Column              Non-Null Count  Dtype  \n",
      "---  ------              --------------  -----  \n",
      " 0   name                8128 non-null   object \n",
      " 1   year                8128 non-null   int64  \n",
      " 2   selling_price       8128 non-null   int64  \n",
      " 3   km_driven           8128 non-null   int64  \n",
      " 4   fuel                8128 non-null   object \n",
      " 5   seller_type         8128 non-null   object \n",
      " 6   transmission        8128 non-null   object \n",
      " 7   owner               8128 non-null   object \n",
      " 8   mileage(km/ltr/kg)  7907 non-null   float64\n",
      " 9   engine              7907 non-null   float64\n",
      " 10  max_power           7913 non-null   object \n",
      " 11  seats               7907 non-null   float64\n",
      "dtypes: float64(3), int64(3), object(6)\n",
      "memory usage: 762.1+ KB\n"
     ]
    }
   ],
   "source": [
    "dfcars.info()"
   ]
  },
  {
   "cell_type": "code",
   "execution_count": 5,
   "id": "be59bcc7",
   "metadata": {},
   "outputs": [
    {
     "data": {
      "text/html": [
       "<div>\n",
       "<style scoped>\n",
       "    .dataframe tbody tr th:only-of-type {\n",
       "        vertical-align: middle;\n",
       "    }\n",
       "\n",
       "    .dataframe tbody tr th {\n",
       "        vertical-align: top;\n",
       "    }\n",
       "\n",
       "    .dataframe thead th {\n",
       "        text-align: right;\n",
       "    }\n",
       "</style>\n",
       "<table border=\"1\" class=\"dataframe\">\n",
       "  <thead>\n",
       "    <tr style=\"text-align: right;\">\n",
       "      <th></th>\n",
       "      <th>name</th>\n",
       "      <th>year</th>\n",
       "      <th>selling_price</th>\n",
       "      <th>km_driven</th>\n",
       "      <th>fuel</th>\n",
       "      <th>seller_type</th>\n",
       "      <th>transmission</th>\n",
       "      <th>owner</th>\n",
       "      <th>mileage(km/ltr/kg)</th>\n",
       "      <th>engine</th>\n",
       "      <th>max_power</th>\n",
       "      <th>seats</th>\n",
       "    </tr>\n",
       "  </thead>\n",
       "  <tbody>\n",
       "    <tr>\n",
       "      <th>0</th>\n",
       "      <td>Maruti Swift Dzire VDI</td>\n",
       "      <td>2014</td>\n",
       "      <td>450000</td>\n",
       "      <td>145500</td>\n",
       "      <td>Diesel</td>\n",
       "      <td>Individual</td>\n",
       "      <td>Manual</td>\n",
       "      <td>First Owner</td>\n",
       "      <td>23.40</td>\n",
       "      <td>1248.0</td>\n",
       "      <td>74</td>\n",
       "      <td>5.0</td>\n",
       "    </tr>\n",
       "    <tr>\n",
       "      <th>1</th>\n",
       "      <td>Skoda Rapid 1.5 TDI Ambition</td>\n",
       "      <td>2014</td>\n",
       "      <td>370000</td>\n",
       "      <td>120000</td>\n",
       "      <td>Diesel</td>\n",
       "      <td>Individual</td>\n",
       "      <td>Manual</td>\n",
       "      <td>Second Owner</td>\n",
       "      <td>21.14</td>\n",
       "      <td>1498.0</td>\n",
       "      <td>103.52</td>\n",
       "      <td>5.0</td>\n",
       "    </tr>\n",
       "    <tr>\n",
       "      <th>2</th>\n",
       "      <td>Honda City 2017-2020 EXi</td>\n",
       "      <td>2006</td>\n",
       "      <td>158000</td>\n",
       "      <td>140000</td>\n",
       "      <td>Petrol</td>\n",
       "      <td>Individual</td>\n",
       "      <td>Manual</td>\n",
       "      <td>Third Owner</td>\n",
       "      <td>17.70</td>\n",
       "      <td>1497.0</td>\n",
       "      <td>78</td>\n",
       "      <td>5.0</td>\n",
       "    </tr>\n",
       "    <tr>\n",
       "      <th>3</th>\n",
       "      <td>Hyundai i20 Sportz Diesel</td>\n",
       "      <td>2010</td>\n",
       "      <td>225000</td>\n",
       "      <td>127000</td>\n",
       "      <td>Diesel</td>\n",
       "      <td>Individual</td>\n",
       "      <td>Manual</td>\n",
       "      <td>First Owner</td>\n",
       "      <td>23.00</td>\n",
       "      <td>1396.0</td>\n",
       "      <td>90</td>\n",
       "      <td>5.0</td>\n",
       "    </tr>\n",
       "    <tr>\n",
       "      <th>4</th>\n",
       "      <td>Maruti Swift VXI BSIII</td>\n",
       "      <td>2007</td>\n",
       "      <td>130000</td>\n",
       "      <td>120000</td>\n",
       "      <td>Petrol</td>\n",
       "      <td>Individual</td>\n",
       "      <td>Manual</td>\n",
       "      <td>First Owner</td>\n",
       "      <td>16.10</td>\n",
       "      <td>1298.0</td>\n",
       "      <td>88.2</td>\n",
       "      <td>5.0</td>\n",
       "    </tr>\n",
       "  </tbody>\n",
       "</table>\n",
       "</div>"
      ],
      "text/plain": [
       "                           name  year  selling_price  km_driven    fuel  \\\n",
       "0        Maruti Swift Dzire VDI  2014         450000     145500  Diesel   \n",
       "1  Skoda Rapid 1.5 TDI Ambition  2014         370000     120000  Diesel   \n",
       "2      Honda City 2017-2020 EXi  2006         158000     140000  Petrol   \n",
       "3     Hyundai i20 Sportz Diesel  2010         225000     127000  Diesel   \n",
       "4        Maruti Swift VXI BSIII  2007         130000     120000  Petrol   \n",
       "\n",
       "  seller_type transmission         owner  mileage(km/ltr/kg)  engine  \\\n",
       "0  Individual       Manual   First Owner               23.40  1248.0   \n",
       "1  Individual       Manual  Second Owner               21.14  1498.0   \n",
       "2  Individual       Manual   Third Owner               17.70  1497.0   \n",
       "3  Individual       Manual   First Owner               23.00  1396.0   \n",
       "4  Individual       Manual   First Owner               16.10  1298.0   \n",
       "\n",
       "  max_power  seats  \n",
       "0        74    5.0  \n",
       "1    103.52    5.0  \n",
       "2        78    5.0  \n",
       "3        90    5.0  \n",
       "4      88.2    5.0  "
      ]
     },
     "execution_count": 5,
     "metadata": {},
     "output_type": "execute_result"
    }
   ],
   "source": [
    "dfcars.head()"
   ]
  },
  {
   "cell_type": "code",
   "execution_count": 6,
   "id": "21c11a78",
   "metadata": {},
   "outputs": [],
   "source": [
    "# Dependent Variable - selling_price\n",
    "# Research Objective - Build a model that predicts price of a car when data is input"
   ]
  },
  {
   "cell_type": "code",
   "execution_count": 7,
   "id": "19e6244a",
   "metadata": {},
   "outputs": [
    {
     "data": {
      "text/plain": [
       "0        74\n",
       "1    103.52\n",
       "2        78\n",
       "3        90\n",
       "4      88.2\n",
       "Name: max_power, dtype: object"
      ]
     },
     "execution_count": 7,
     "metadata": {},
     "output_type": "execute_result"
    }
   ],
   "source": [
    "dfcars.max_power.head()"
   ]
  },
  {
   "cell_type": "code",
   "execution_count": 8,
   "id": "ed28a733",
   "metadata": {},
   "outputs": [],
   "source": [
    "dfcars.rename(columns={'mileage(km/ltr/kg)': 'mileage'}, inplace=True)"
   ]
  },
  {
   "cell_type": "code",
   "execution_count": 9,
   "id": "669efa37",
   "metadata": {
    "scrolled": true
   },
   "outputs": [
    {
     "data": {
      "text/plain": [
       "74         377\n",
       "88.5       222\n",
       "81.8       220\n",
       "67         165\n",
       "46.3       162\n",
       "67.1       151\n",
       "88.7       148\n",
       "67.04      145\n",
       "62.1       141\n",
       "47.3       141\n",
       "70         141\n",
       "88.73      132\n",
       "81.86      131\n",
       "120        131\n",
       "140        128\n",
       "68         127\n",
       "88.76      124\n",
       "73.9       124\n",
       "55.2       121\n",
       "98.6       118\n",
       "67.05      117\n",
       "190        110\n",
       "82         108\n",
       "75         108\n",
       "63         100\n",
       "81.83       97\n",
       "85.8        94\n",
       "37          92\n",
       "100         90\n",
       "100.6       87\n",
       "78.9        85\n",
       "102         84\n",
       "90          82\n",
       "69          77\n",
       "126.2       75\n",
       "68.05       74\n",
       "88.8        70\n",
       "74.02       66\n",
       "177         65\n",
       "126.32      65\n",
       "53.3        64\n",
       "84          63\n",
       "73.97       61\n",
       "83.8        58\n",
       "108.5       57\n",
       "138.1       55\n",
       "86.8        51\n",
       "98.96       49\n",
       "103.6       48\n",
       "117.3       47\n",
       "108.45      46\n",
       "147.94      45\n",
       "80          45\n",
       "83.1        45\n",
       "121.3       44\n",
       "62          43\n",
       "103.5       43\n",
       "71          43\n",
       "110         41\n",
       "99          38\n",
       "73          38\n",
       "93.7        34\n",
       "214.56      34\n",
       "157.7       33\n",
       "98.59       32\n",
       "150         32\n",
       "69.01       31\n",
       "73.94       31\n",
       "170         30\n",
       "78          29\n",
       "103.2       29\n",
       "83.14       28\n",
       "138.03      28\n",
       "60          27\n",
       "105         27\n",
       "65          26\n",
       "112         25\n",
       "57.6        25\n",
       "118         24\n",
       "77          23\n",
       "35          22\n",
       "91.1        22\n",
       "153.86      21\n",
       "82.85       21\n",
       "84.8        21\n",
       "34.2        21\n",
       "147.8       20\n",
       "168.5       20\n",
       "79.4        20\n",
       "171.5       19\n",
       "147.9       19\n",
       "64          18\n",
       "66.1        18\n",
       "116.3       17\n",
       "187.74      17\n",
       "95          17\n",
       "94          17\n",
       "115         16\n",
       "98.63       16\n",
       "64.1        16\n",
       "72.4        15\n",
       "86.7        15\n",
       "85          15\n",
       "61.7        15\n",
       "141         14\n",
       "184         14\n",
       "108.6       14\n",
       "117.6       14\n",
       "138         14\n",
       "126.3       14\n",
       "152.87      13\n",
       "121         13\n",
       "58.16       13\n",
       "174.5       13\n",
       "103.52      13\n",
       "52.8        12\n",
       "53.64       12\n",
       "82.4        12\n",
       "53.5        12\n",
       "73.8        12\n",
       "37.48       11\n",
       "83.83       11\n",
       "58.2        11\n",
       "94.93       11\n",
       "130         11\n",
       "56.3        11\n",
       "108.62      11\n",
       "105.5       11\n",
       "67.06       11\n",
       "68.1        11\n",
       "63.1        11\n",
       "76          10\n",
       "73.74       10\n",
       "104.68      10\n",
       "91.7        10\n",
       "110.4       10\n",
       "97.7        10\n",
       "171         10\n",
       "87.2        10\n",
       "97.9         9\n",
       "241.4        9\n",
       "83           9\n",
       "163.7        9\n",
       "174.33       9\n",
       "99.6         9\n",
       "123.7        9\n",
       "88.2         9\n",
       "89.84        8\n",
       "76.9         8\n",
       "72           8\n",
       "66           8\n",
       "103.3        8\n",
       "181          8\n",
       "113.42       8\n",
       "76.8         8\n",
       "147.51       7\n",
       "83.81        7\n",
       "108.495      7\n",
       "94.68        7\n",
       "88           7\n",
       "125          7\n",
       "204          7\n",
       "188          7\n",
       "73.75        7\n",
       "118.35       6\n",
       "37.5         6\n",
       "116.6        6\n",
       "65.3         6\n",
       "261.4        6\n",
       "63.12        6\n",
       "147.5        6\n",
       "103.25       6\n",
       "74.96        6\n",
       "57.5         6\n",
       "92           6\n",
       "83.11        6\n",
       "47           6\n",
       "0            6\n",
       "280          6\n",
       "91.72        5\n",
       "197          5\n",
       "148          5\n",
       "136          5\n",
       "89.75        5\n",
       "194.3        5\n",
       "160          5\n",
       "121.36       5\n",
       "100.57       5\n",
       "175.56       5\n",
       "178          4\n",
       "53           4\n",
       "187.4        4\n",
       "113.4        4\n",
       "121.4        4\n",
       "183          4\n",
       "148.31       4\n",
       "270.9        4\n",
       "187.7        4\n",
       "177.6        4\n",
       "71.01        4\n",
       "158.8        4\n",
       "74.9         4\n",
       "127          4\n",
       "118.3        4\n",
       "99.23        4\n",
       "116.4        3\n",
       "52           3\n",
       "40.3         3\n",
       "165          3\n",
       "122.4        3\n",
       "218          3\n",
       "198.25       3\n",
       "104.55       3\n",
       "100.5        3\n",
       "45           3\n",
       "143          3\n",
       "254.79       3\n",
       "68.07        3\n",
       "84.48        3\n",
       "139.01       3\n",
       "254.8        3\n",
       "58           3\n",
       "64.4         3\n",
       "102.5        3\n",
       "235          3\n",
       "134.1        2\n",
       "35.5         2\n",
       "258          2\n",
       "101          2\n",
       "66.6         2\n",
       "38.4         2\n",
       "82.5         2\n",
       "32.8         2\n",
       "106          2\n",
       "158          2\n",
       "98.97        2\n",
       "48.21        2\n",
       "194.4        2\n",
       "38           2\n",
       "142          2\n",
       "174.57       2\n",
       "177.5        2\n",
       "167.67       2\n",
       "132          2\n",
       "82.9         2\n",
       "78.8         2\n",
       "181.04       2\n",
       "189          2\n",
       "64.08        2\n",
       "152          2\n",
       "91.2         2\n",
       "105.3        2\n",
       "120.7        2\n",
       "160.77       2\n",
       "126.24       2\n",
       "53.26        2\n",
       "241          2\n",
       "123.37       2\n",
       "103          2\n",
       "177.46       2\n",
       "80.8         2\n",
       "120.69       2\n",
       "93.87        2\n",
       "121.31       2\n",
       "164.7        2\n",
       "141.1        1\n",
       "144          1\n",
       "203          1\n",
       "189.3        1\n",
       "168.7        1\n",
       "104.5        1\n",
       "103.26       1\n",
       "98.79        1\n",
       "134          1\n",
       "80.9         1\n",
       "58.3         1\n",
       "60.2         1\n",
       "272          1\n",
       "162          1\n",
       "400          1\n",
       "194          1\n",
       "161          1\n",
       "167.62       1\n",
       "201.1        1\n",
       "139.46       1\n",
       "282          1\n",
       "197.2        1\n",
       "110.5        1\n",
       "170.3        1\n",
       "80.84        1\n",
       "             1\n",
       "155          1\n",
       "92.7         1\n",
       "86.79        1\n",
       "55.23        1\n",
       "138.08       1\n",
       "265          1\n",
       "157.75       1\n",
       "186          1\n",
       "224          1\n",
       "64.9         1\n",
       "179.5        1\n",
       "198.5        1\n",
       "116.9        1\n",
       "112.2        1\n",
       "167.6        1\n",
       "104          1\n",
       "86           1\n",
       "98.82        1\n",
       "156          1\n",
       "163.2        1\n",
       "203.2        1\n",
       "175          1\n",
       "57           1\n",
       "58.33        1\n",
       "68.4         1\n",
       "169          1\n",
       "170.63       1\n",
       "149.5        1\n",
       "135.1        1\n",
       "Name: max_power, dtype: int64"
      ]
     },
     "execution_count": 9,
     "metadata": {},
     "output_type": "execute_result"
    }
   ],
   "source": [
    "pd.set_option(\"display.max_rows\",322)\n",
    "dfcars.max_power.value_counts()"
   ]
  },
  {
   "cell_type": "code",
   "execution_count": 10,
   "id": "e96182c3",
   "metadata": {},
   "outputs": [],
   "source": [
    "dfcars[\"companyname\"] = dfcars.name.str.split().str[0]"
   ]
  },
  {
   "cell_type": "code",
   "execution_count": 11,
   "id": "712b468b",
   "metadata": {},
   "outputs": [
    {
     "data": {
      "text/plain": [
       "Maruti           2448\n",
       "Hyundai          1415\n",
       "Mahindra          772\n",
       "Tata              734\n",
       "Toyota            488\n",
       "Honda             467\n",
       "Ford              397\n",
       "Chevrolet         230\n",
       "Renault           228\n",
       "Volkswagen        186\n",
       "BMW               120\n",
       "Skoda             105\n",
       "Nissan             81\n",
       "Jaguar             71\n",
       "Volvo              67\n",
       "Datsun             65\n",
       "Mercedes-Benz      54\n",
       "Fiat               47\n",
       "Audi               40\n",
       "Lexus              34\n",
       "Jeep               31\n",
       "Mitsubishi         14\n",
       "Force               6\n",
       "Land                6\n",
       "Isuzu               5\n",
       "Kia                 4\n",
       "Ambassador          4\n",
       "Daewoo              3\n",
       "MG                  3\n",
       "Ashok               1\n",
       "Opel                1\n",
       "Peugeot             1\n",
       "Name: companyname, dtype: int64"
      ]
     },
     "execution_count": 11,
     "metadata": {},
     "output_type": "execute_result"
    }
   ],
   "source": [
    "dfcars.companyname.value_counts(dropna=False)"
   ]
  },
  {
   "cell_type": "code",
   "execution_count": 12,
   "id": "c29a7698",
   "metadata": {},
   "outputs": [],
   "source": [
    "dfcars.engine=pd.to_numeric(dfcars.engine,errors=\"coerce\")\n",
    "# pd.to_numeric() - brute force conversion\n",
    "# errors = coerce  wherever number is not understood, impute with NA or missingvalue"
   ]
  },
  {
   "cell_type": "code",
   "execution_count": 13,
   "id": "11561289",
   "metadata": {},
   "outputs": [],
   "source": [
    "dfcars.max_power=pd.to_numeric(dfcars.max_power,errors=\"coerce\")"
   ]
  },
  {
   "cell_type": "code",
   "execution_count": 14,
   "id": "083bcd0c",
   "metadata": {},
   "outputs": [
    {
     "data": {
      "text/html": [
       "<div>\n",
       "<style scoped>\n",
       "    .dataframe tbody tr th:only-of-type {\n",
       "        vertical-align: middle;\n",
       "    }\n",
       "\n",
       "    .dataframe tbody tr th {\n",
       "        vertical-align: top;\n",
       "    }\n",
       "\n",
       "    .dataframe thead th {\n",
       "        text-align: right;\n",
       "    }\n",
       "</style>\n",
       "<table border=\"1\" class=\"dataframe\">\n",
       "  <thead>\n",
       "    <tr style=\"text-align: right;\">\n",
       "      <th></th>\n",
       "      <th>mileage</th>\n",
       "      <th>engine</th>\n",
       "      <th>max_power</th>\n",
       "      <th>seats</th>\n",
       "    </tr>\n",
       "  </thead>\n",
       "  <tbody>\n",
       "    <tr>\n",
       "      <th>count</th>\n",
       "      <td>7907.000000</td>\n",
       "      <td>7907.000000</td>\n",
       "      <td>7912.000000</td>\n",
       "      <td>7907.000000</td>\n",
       "    </tr>\n",
       "    <tr>\n",
       "      <th>mean</th>\n",
       "      <td>19.418783</td>\n",
       "      <td>1458.625016</td>\n",
       "      <td>91.517919</td>\n",
       "      <td>5.416719</td>\n",
       "    </tr>\n",
       "    <tr>\n",
       "      <th>std</th>\n",
       "      <td>4.037145</td>\n",
       "      <td>503.916303</td>\n",
       "      <td>35.822499</td>\n",
       "      <td>0.959588</td>\n",
       "    </tr>\n",
       "    <tr>\n",
       "      <th>min</th>\n",
       "      <td>0.000000</td>\n",
       "      <td>624.000000</td>\n",
       "      <td>0.000000</td>\n",
       "      <td>2.000000</td>\n",
       "    </tr>\n",
       "    <tr>\n",
       "      <th>25%</th>\n",
       "      <td>16.780000</td>\n",
       "      <td>1197.000000</td>\n",
       "      <td>68.050000</td>\n",
       "      <td>5.000000</td>\n",
       "    </tr>\n",
       "    <tr>\n",
       "      <th>50%</th>\n",
       "      <td>19.300000</td>\n",
       "      <td>1248.000000</td>\n",
       "      <td>82.000000</td>\n",
       "      <td>5.000000</td>\n",
       "    </tr>\n",
       "    <tr>\n",
       "      <th>75%</th>\n",
       "      <td>22.320000</td>\n",
       "      <td>1582.000000</td>\n",
       "      <td>102.000000</td>\n",
       "      <td>5.000000</td>\n",
       "    </tr>\n",
       "    <tr>\n",
       "      <th>max</th>\n",
       "      <td>42.000000</td>\n",
       "      <td>3604.000000</td>\n",
       "      <td>400.000000</td>\n",
       "      <td>14.000000</td>\n",
       "    </tr>\n",
       "  </tbody>\n",
       "</table>\n",
       "</div>"
      ],
      "text/plain": [
       "           mileage       engine    max_power        seats\n",
       "count  7907.000000  7907.000000  7912.000000  7907.000000\n",
       "mean     19.418783  1458.625016    91.517919     5.416719\n",
       "std       4.037145   503.916303    35.822499     0.959588\n",
       "min       0.000000   624.000000     0.000000     2.000000\n",
       "25%      16.780000  1197.000000    68.050000     5.000000\n",
       "50%      19.300000  1248.000000    82.000000     5.000000\n",
       "75%      22.320000  1582.000000   102.000000     5.000000\n",
       "max      42.000000  3604.000000   400.000000    14.000000"
      ]
     },
     "execution_count": 14,
     "metadata": {},
     "output_type": "execute_result"
    }
   ],
   "source": [
    "dfcars[['mileage', 'engine', 'max_power','seats']].describe()"
   ]
  },
  {
   "cell_type": "code",
   "execution_count": 15,
   "id": "2f8413e2",
   "metadata": {},
   "outputs": [
    {
     "data": {
      "text/plain": [
       "<Axes: >"
      ]
     },
     "execution_count": 15,
     "metadata": {},
     "output_type": "execute_result"
    },
    {
     "data": {
      "image/png": "[encoded data removed]",
      "text/plain": [
       "<Figure size 640x480 with 1 Axes>"
      ]
     },
     "metadata": {},
     "output_type": "display_data"
    }
   ],
   "source": [
    "sns.boxplot(dfcars[['mileage', 'engine', 'max_power','seats']])"
   ]
  },
  {
   "cell_type": "code",
   "execution_count": 16,
   "id": "388588c5",
   "metadata": {},
   "outputs": [],
   "source": [
    "# Median Imputation of Missing Values\n",
    "for col in ['mileage', 'engine', 'max_power','seats']:\n",
    "    dfcars[col]=dfcars[col].fillna(dfcars[col].median())"
   ]
  },
  {
   "cell_type": "code",
   "execution_count": 17,
   "id": "67a835f1",
   "metadata": {},
   "outputs": [],
   "source": [
    "# Create new variable \"Age\" based on purchase year as of year 2022\n",
    "dfcars['age']=2022-dfcars.year"
   ]
  },
  {
   "cell_type": "code",
   "execution_count": 18,
   "id": "ef4150f2",
   "metadata": {},
   "outputs": [
    {
     "data": {
      "text/plain": [
       "count    8128.000000\n",
       "mean        8.195989\n",
       "std         4.044249\n",
       "min         2.000000\n",
       "25%         5.000000\n",
       "50%         7.000000\n",
       "75%        11.000000\n",
       "max        39.000000\n",
       "Name: age, dtype: float64"
      ]
     },
     "execution_count": 18,
     "metadata": {},
     "output_type": "execute_result"
    }
   ],
   "source": [
    "dfcars.age.describe()"
   ]
  },
  {
   "cell_type": "code",
   "execution_count": 19,
   "id": "74b4efc5",
   "metadata": {},
   "outputs": [
    {
     "data": {
      "text/plain": [
       "Index(['name', 'year', 'selling_price', 'km_driven', 'fuel', 'seller_type',\n",
       "       'transmission', 'owner', 'mileage', 'engine', 'max_power', 'seats',\n",
       "       'companyname', 'age'],\n",
       "      dtype='object')"
      ]
     },
     "execution_count": 19,
     "metadata": {},
     "output_type": "execute_result"
    }
   ],
   "source": [
    "dfcars.columns"
   ]
  },
  {
   "cell_type": "code",
   "execution_count": 20,
   "id": "55854800",
   "metadata": {},
   "outputs": [],
   "source": [
    "dfcars = dfcars.drop([\"name\", \"year\"], axis=1)"
   ]
  },
  {
   "cell_type": "code",
   "execution_count": 21,
   "id": "f2be2749",
   "metadata": {},
   "outputs": [],
   "source": [
    "# Data Vizualization\n",
    "# Frequency Counts and Pie Diagram with percentage for variables fuel, seller_type,\n",
    "# owner\n",
    "# Cross Tabulation and Stacked Bar Plot for variables fuel & seller_type, owner & fuel\n",
    "# companyname & fuel\n",
    "# Bar plot of companyname\n",
    "# Histogram, Boxplot and Density Curve - selling_price, km_driven, mileage"
   ]
  },
  {
   "cell_type": "code",
   "execution_count": 22,
   "id": "344e6ece",
   "metadata": {},
   "outputs": [
    {
     "data": {
      "text/plain": [
       "<Axes: ylabel='fuel'>"
      ]
     },
     "execution_count": 22,
     "metadata": {},
     "output_type": "execute_result"
    },
    {
     "data": {
      "image/png": "[encoded data removed]",
      "text/plain": [
       "<Figure size 640x480 with 1 Axes>"
      ]
     },
     "metadata": {},
     "output_type": "display_data"
    }
   ],
   "source": [
    "dfcars.fuel.value_counts().plot(kind=\"pie\",autopct=\"%.2f%%\", colors=[\"red\",\"yellow\",\"green\",\"blue\"])"
   ]
  },
  {
   "cell_type": "code",
   "execution_count": 23,
   "id": "25055e02",
   "metadata": {},
   "outputs": [
    {
     "data": {
      "text/plain": [
       "<Axes: ylabel='seller_type'>"
      ]
     },
     "execution_count": 23,
     "metadata": {},
     "output_type": "execute_result"
    },
    {
     "data": {
      "image/png": "[encoded data removed]",
      "text/plain": [
       "<Figure size 640x480 with 1 Axes>"
      ]
     },
     "metadata": {},
     "output_type": "display_data"
    }
   ],
   "source": [
    "dfcars.seller_type.value_counts().plot(kind = \"pie\", autopct = \"%.2f%%\")"
   ]
  },
  {
   "cell_type": "code",
   "execution_count": 24,
   "id": "e69f2205",
   "metadata": {},
   "outputs": [
    {
     "data": {
      "text/plain": [
       "<Axes: ylabel='owner'>"
      ]
     },
     "execution_count": 24,
     "metadata": {},
     "output_type": "execute_result"
    },
    {
     "data": {
      "image/png": "[encoded data removed]",
      "text/plain": [
       "<Figure size 640x480 with 1 Axes>"
      ]
     },
     "metadata": {},
     "output_type": "display_data"
    }
   ],
   "source": [
    "dfcars.owner.value_counts().plot(kind=\"pie\", autopct = \"%.2f%%\")"
   ]
  },
  {
   "cell_type": "code",
   "execution_count": 25,
   "id": "39819764",
   "metadata": {},
   "outputs": [
    {
     "data": {
      "image/png": "[encoded data removed]",
      "text/plain": [
       "<Figure size 640x480 with 1 Axes>"
      ]
     },
     "metadata": {},
     "output_type": "display_data"
    }
   ],
   "source": [
    "ax = pd.crosstab(dfcars.seller_type, dfcars.fuel).plot(kind=\"bar\",stacked=True)\n",
    "for i in ax.containers:\n",
    "    ax.bar_label(i)"
   ]
  },
  {
   "cell_type": "code",
   "execution_count": 26,
   "id": "0cc55e69",
   "metadata": {},
   "outputs": [
    {
     "data": {
      "image/png": "[encoded data removed]",
      "text/plain": [
       "<Figure size 640x480 with 1 Axes>"
      ]
     },
     "metadata": {},
     "output_type": "display_data"
    }
   ],
   "source": [
    "ax = pd.crosstab(dfcars.owner, dfcars.fuel).plot(kind=\"bar\",stacked=True)\n",
    "for i in ax.containers:\n",
    "    ax.bar_label(i)"
   ]
  },
  {
   "cell_type": "code",
   "execution_count": 27,
   "id": "be1bf54c",
   "metadata": {
    "scrolled": false
   },
   "outputs": [
    {
     "data": {
      "image/png": "[encoded data removed]",
      "text/plain": [
       "<Figure size 1500x1000 with 1 Axes>"
      ]
     },
     "metadata": {},
     "output_type": "display_data"
    }
   ],
   "source": [
    "ax=pd.crosstab(dfcars.companyname,dfcars.fuel).plot(kind=\"bar\",\n",
    "                                                        stacked=True,figsize=(15,10))\n",
    "for i in ax.containers:\n",
    "    ax.bar_label(i)"
   ]
  },
  {
   "cell_type": "code",
   "execution_count": 28,
   "id": "7358b80a",
   "metadata": {},
   "outputs": [
    {
     "data": {
      "image/png": "[encoded data removed]",
      "text/plain": [
       "<Figure size 640x480 with 3 Axes>"
      ]
     },
     "metadata": {},
     "output_type": "display_data"
    }
   ],
   "source": [
    "fig,ax=plt.subplots(3,1)\n",
    "sns.histplot(dfcars.selling_price,ax=ax[0])\n",
    "sns.boxplot(dfcars.selling_price,ax=ax[1],orient=\"h\")\n",
    "sns.kdeplot(dfcars.selling_price,ax=ax[2])\n",
    "plt.show()"
   ]
  },
  {
   "cell_type": "code",
   "execution_count": 29,
   "id": "615fb5c4",
   "metadata": {},
   "outputs": [
    {
     "data": {
      "image/png": "[encoded data removed]",
      "text/plain": [
       "<Figure size 640x480 with 3 Axes>"
      ]
     },
     "metadata": {},
     "output_type": "display_data"
    }
   ],
   "source": [
    "fig,ax=plt.subplots(3,1)\n",
    "sns.histplot(dfcars.km_driven,ax=ax[0])\n",
    "sns.boxplot(dfcars.km_driven,ax=ax[1],orient=\"h\")\n",
    "sns.kdeplot(dfcars.km_driven,ax=ax[2])\n",
    "plt.show()"
   ]
  },
  {
   "cell_type": "code",
   "execution_count": 30,
   "id": "8ab685eb",
   "metadata": {},
   "outputs": [
    {
     "data": {
      "image/png": "[encoded data removed]",
      "text/plain": [
       "<Figure size 640x480 with 3 Axes>"
      ]
     },
     "metadata": {},
     "output_type": "display_data"
    }
   ],
   "source": [
    "fig,ax=plt.subplots(3,1)\n",
    "sns.histplot(dfcars.mileage,ax=ax[0])\n",
    "sns.boxplot(dfcars.mileage,ax=ax[1],orient=\"h\")\n",
    "sns.kdeplot(dfcars.mileage,ax=ax[2])\n",
    "plt.show()"
   ]
  },
  {
   "cell_type": "code",
   "execution_count": 31,
   "id": "10ad8799",
   "metadata": {},
   "outputs": [],
   "source": [
    "# Hypothesis Testing - Comparision of Means/Averages of 2 or more than 3 levels/groups/classes\n",
    "# Fundamental Assumption - Means/Averages must be different\n",
    "\n",
    "# Variable 1 Numerical and Variable 2 categorical with exactly 2 levels/groups/classes-\n",
    "# 2 Sample Independent T test\n",
    "\n",
    "# # Variable 1 Numerical and Variable 2 categorical with morethan 2 levels/groups/classes-\n",
    "# Anova Single Factor\n",
    "\n",
    "# Variable 1 Categorical and Variable 2 categorical - Chi Square Test of Independence\n",
    "\n",
    "# Variable 1 Numeric and Before and Variable 2 Numeric and After - Paired Sample T test\n",
    "\n",
    "# Process of Conducting Hypothesis Test\n",
    "# 1) groupby() - mean and variance\n",
    "# 2) Frame Null and Alternate Hypothesis\n",
    "# 3) Split Data into as many levels\n",
    "# 4) Conduct Test and interpret based on p-value\n",
    "\n",
    "# p-value interpretation - 2 tail test (rejection on Both Sides)\n",
    "# p-value less than 0.05, Reject Null\n",
    "# p-value greater than 0.05, Fail to Reject (Accept) Null\n",
    "# 0.05 means 5% Alpha(probable error rate) and 95% Confidence Level"
   ]
  },
  {
   "cell_type": "code",
   "execution_count": 32,
   "id": "ad4a5fb2",
   "metadata": {},
   "outputs": [
    {
     "data": {
      "text/plain": [
       "transmission\n",
       "Automatic    1870827.60\n",
       "Manual        455425.86\n",
       "Name: selling_price, dtype: float64"
      ]
     },
     "execution_count": 32,
     "metadata": {},
     "output_type": "execute_result"
    }
   ],
   "source": [
    "# Test Null Average selling_price of different transmission is equal\n",
    "np.round(dfcars.selling_price.groupby(dfcars.transmission).mean(),2)\n",
    "# Since exactly 2 levels/groups/classes - 2 Sample Independent T Test"
   ]
  },
  {
   "cell_type": "code",
   "execution_count": 33,
   "id": "265e113a",
   "metadata": {},
   "outputs": [
    {
     "data": {
      "text/plain": [
       "transmission\n",
       "Automatic    2.691349e+12\n",
       "Manual       8.872370e+10\n",
       "Name: selling_price, dtype: float64"
      ]
     },
     "execution_count": 33,
     "metadata": {},
     "output_type": "execute_result"
    }
   ],
   "source": [
    "np.round(dfcars.selling_price.groupby(dfcars.transmission).var(),2)"
   ]
  },
  {
   "cell_type": "code",
   "execution_count": 34,
   "id": "8d32d4eb",
   "metadata": {},
   "outputs": [],
   "source": [
    "# Frame Null and Alternate Hypothesis\n",
    "# Null - There is no Significant difference in Average selling_price of auto & manual cars\n",
    "# H0 - meanof auto = mean of manual\n",
    "\n",
    "# Alt - There is Significant difference in Average selling_price of auto & manual cars\n",
    "# Ha - meanof auto != mean of manual"
   ]
  },
  {
   "cell_type": "code",
   "execution_count": 35,
   "id": "486b4a46",
   "metadata": {},
   "outputs": [],
   "source": [
    "# Split Data into auto and manual\n",
    "auto=dfcars[dfcars.transmission==\"Automatic\"]\n",
    "manual=dfcars[dfcars.transmission==\"Manual\"]"
   ]
  },
  {
   "cell_type": "code",
   "execution_count": 36,
   "id": "0f6241d2",
   "metadata": {},
   "outputs": [],
   "source": [
    "from scipy.stats import ttest_ind"
   ]
  },
  {
   "cell_type": "code",
   "execution_count": 37,
   "id": "26d3ecc8",
   "metadata": {},
   "outputs": [
    {
     "data": {
      "text/plain": [
       "Ttest_indResult(statistic=27.888813193478946, pvalue=8.531946079710315e-129)"
      ]
     },
     "execution_count": 37,
     "metadata": {},
     "output_type": "execute_result"
    }
   ],
   "source": [
    "ttest_ind(auto.selling_price,manual.selling_price,equal_var=False)\n",
    "# Since pvalue=8.531946079710315e-129 is less than 0.05, Reject Null\n",
    "# Difference in Means is Statistically Significant"
   ]
  },
  {
   "cell_type": "code",
   "execution_count": 38,
   "id": "c4b1ee72",
   "metadata": {},
   "outputs": [
    {
     "data": {
      "text/plain": [
       "transmission\n",
       "Automatic    40276.086667\n",
       "Manual       74202.188895\n",
       "Name: km_driven, dtype: float64"
      ]
     },
     "execution_count": 38,
     "metadata": {},
     "output_type": "execute_result"
    }
   ],
   "source": [
    "# Test Null Average km_driven for auto and manual cars equal\n",
    "# groupby() - mean & var, Frame Null & Alt, Conduct test & interpret\n",
    "dfcars.km_driven.groupby(dfcars.transmission).mean()"
   ]
  },
  {
   "cell_type": "code",
   "execution_count": 39,
   "id": "ae871f56",
   "metadata": {},
   "outputs": [
    {
     "data": {
      "text/plain": [
       "transmission\n",
       "Automatic    1.250228e+09\n",
       "Manual       3.338416e+09\n",
       "Name: km_driven, dtype: float64"
      ]
     },
     "execution_count": 39,
     "metadata": {},
     "output_type": "execute_result"
    }
   ],
   "source": [
    "dfcars.km_driven.groupby(dfcars.transmission).var()"
   ]
  },
  {
   "cell_type": "code",
   "execution_count": 40,
   "id": "7b496750",
   "metadata": {},
   "outputs": [],
   "source": [
    "# Frame Null and Alternate Hypothesis\n",
    "# Null - There is no Significant difference in Average km_driven of auto & manual cars\n",
    "# Alt - There is Significant difference in Average km_driven of auto & manual cars"
   ]
  },
  {
   "cell_type": "code",
   "execution_count": 41,
   "id": "dd69052c",
   "metadata": {},
   "outputs": [
    {
     "data": {
      "text/plain": [
       "Ttest_indResult(statistic=-26.31311123939943, pvalue=2.851791533885484e-131)"
      ]
     },
     "execution_count": 41,
     "metadata": {},
     "output_type": "execute_result"
    }
   ],
   "source": [
    "ttest_ind(auto.km_driven,manual.km_driven,equal_var=False)\n",
    "# Since pvalue=2.851791533885484e-131 is less than 0.05, Reject Null"
   ]
  },
  {
   "cell_type": "code",
   "execution_count": 42,
   "id": "1fcd0079",
   "metadata": {},
   "outputs": [],
   "source": [
    "# Test Null Average mileage of auto and manual cars equal"
   ]
  },
  {
   "cell_type": "code",
   "execution_count": 43,
   "id": "fe49c943",
   "metadata": {},
   "outputs": [
    {
     "data": {
      "text/plain": [
       "transmission\n",
       "Automatic    17.579638\n",
       "Manual       19.687906\n",
       "Name: mileage, dtype: float64"
      ]
     },
     "execution_count": 43,
     "metadata": {},
     "output_type": "execute_result"
    }
   ],
   "source": [
    "dfcars.mileage.groupby(dfcars.transmission).mean()"
   ]
  },
  {
   "cell_type": "code",
   "execution_count": 44,
   "id": "6f2915b8",
   "metadata": {},
   "outputs": [
    {
     "data": {
      "text/plain": [
       "transmission\n",
       "Automatic    15.773254\n",
       "Manual       15.295890\n",
       "Name: mileage, dtype: float64"
      ]
     },
     "execution_count": 44,
     "metadata": {},
     "output_type": "execute_result"
    }
   ],
   "source": [
    "dfcars.mileage.groupby(dfcars.transmission).var()"
   ]
  },
  {
   "cell_type": "code",
   "execution_count": 45,
   "id": "d9f6176a",
   "metadata": {},
   "outputs": [],
   "source": [
    "## Frame Null and Alternate Hypothesis\n",
    "## Null - There is no significant differnce in average mileage of auto & manual cars\n",
    "## Alternate - There is a significant difference in average of auto & manual cars"
   ]
  },
  {
   "cell_type": "code",
   "execution_count": 46,
   "id": "636e6c9d",
   "metadata": {},
   "outputs": [
    {
     "data": {
      "text/plain": [
       "Ttest_indResult(statistic=-16.08325308774936, pvalue=1.924423779471943e-53)"
      ]
     },
     "execution_count": 46,
     "metadata": {},
     "output_type": "execute_result"
    }
   ],
   "source": [
    "ttest_ind(auto.mileage, manual.mileage, equal_var=False)\n",
    "##Since pvalue=1.924423779471943e-53 is less than 0.05, Reject NUll"
   ]
  },
  {
   "cell_type": "code",
   "execution_count": 47,
   "id": "c7afcc7e",
   "metadata": {},
   "outputs": [
    {
     "data": {
      "text/plain": [
       "fuel\n",
       "CNG       301017.491228\n",
       "Diesel    791452.921627\n",
       "LPG       200421.052632\n",
       "Petrol    462441.061691\n",
       "Name: selling_price, dtype: float64"
      ]
     },
     "execution_count": 47,
     "metadata": {},
     "output_type": "execute_result"
    }
   ],
   "source": [
    "# Test Null Average selling_price for different fuel is equal\n",
    "dfcars.selling_price.groupby(dfcars.fuel).mean()\n",
    "# More than 2 levels/groups/classes - Anova Single Factor"
   ]
  },
  {
   "cell_type": "code",
   "execution_count": 48,
   "id": "0957cac1",
   "metadata": {},
   "outputs": [],
   "source": [
    "## Frame null and alternate hypothesis\n",
    "## NUll : There is no Significant difference in AVerage selling_price of different fuel cars\n",
    "## Alternate : There is Significant difference in average selling_price of different fuel cars "
   ]
  },
  {
   "cell_type": "code",
   "execution_count": 49,
   "id": "05704b30",
   "metadata": {},
   "outputs": [],
   "source": [
    "# Split Data\n",
    "cng=dfcars[dfcars.fuel==\"CNG\"]\n",
    "diesel=dfcars[dfcars.fuel==\"Diesel\"]\n",
    "lpg=dfcars[dfcars.fuel==\"LPG\"]\n",
    "petrol=dfcars[dfcars.fuel==\"Petrol\"]"
   ]
  },
  {
   "cell_type": "code",
   "execution_count": 50,
   "id": "74f968e2",
   "metadata": {},
   "outputs": [],
   "source": [
    "from scipy.stats import f_oneway"
   ]
  },
  {
   "cell_type": "code",
   "execution_count": 51,
   "id": "a2b7a21c",
   "metadata": {},
   "outputs": [
    {
     "data": {
      "text/plain": [
       "F_onewayResult(statistic=122.88062883888716, pvalue=7.768067697277526e-78)"
      ]
     },
     "execution_count": 51,
     "metadata": {},
     "output_type": "execute_result"
    }
   ],
   "source": [
    "f_oneway(cng.selling_price,diesel.selling_price,lpg.selling_price,petrol.selling_price)\n",
    "# Since pvalue=7.768067697277526e-78 is less than 0.05, Reject Null"
   ]
  },
  {
   "cell_type": "code",
   "execution_count": 52,
   "id": "5954c7a3",
   "metadata": {},
   "outputs": [
    {
     "data": {
      "text/plain": [
       "fuel\n",
       "CNG       23.824211\n",
       "Diesel    19.634607\n",
       "LPG       18.634211\n",
       "Petrol    19.088956\n",
       "Name: mileage, dtype: float64"
      ]
     },
     "execution_count": 52,
     "metadata": {},
     "output_type": "execute_result"
    }
   ],
   "source": [
    "# Test Null Avearge mileage of different fuel cars equal\n",
    "dfcars.mileage.groupby(dfcars.fuel).mean()"
   ]
  },
  {
   "cell_type": "code",
   "execution_count": 53,
   "id": "7576bb35",
   "metadata": {},
   "outputs": [],
   "source": [
    "# Frame Null & Alternate\n",
    "# Null - There is no Significant difference in Average mileage of different fuel cars\n",
    "# Alt - There is Significant difference in Average mileage of different fuel cars"
   ]
  },
  {
   "cell_type": "code",
   "execution_count": 54,
   "id": "526e767b",
   "metadata": {},
   "outputs": [
    {
     "data": {
      "text/plain": [
       "F_onewayResult(statistic=36.842275392000154, pvalue=1.218592729218157e-23)"
      ]
     },
     "execution_count": 54,
     "metadata": {},
     "output_type": "execute_result"
    }
   ],
   "source": [
    "f_oneway(cng.mileage,diesel.mileage,lpg.mileage,petrol.mileage)\n",
    "# Since pvalue=1.218592729218157e-23 is less than 0.05, Reject Null"
   ]
  },
  {
   "cell_type": "code",
   "execution_count": 55,
   "id": "0faac300",
   "metadata": {},
   "outputs": [
    {
     "data": {
      "text/html": [
       "<div>\n",
       "<style scoped>\n",
       "    .dataframe tbody tr th:only-of-type {\n",
       "        vertical-align: middle;\n",
       "    }\n",
       "\n",
       "    .dataframe tbody tr th {\n",
       "        vertical-align: top;\n",
       "    }\n",
       "\n",
       "    .dataframe thead th {\n",
       "        text-align: right;\n",
       "    }\n",
       "</style>\n",
       "<table border=\"1\" class=\"dataframe\">\n",
       "  <thead>\n",
       "    <tr style=\"text-align: right;\">\n",
       "      <th>fuel</th>\n",
       "      <th>CNG</th>\n",
       "      <th>Diesel</th>\n",
       "      <th>LPG</th>\n",
       "      <th>Petrol</th>\n",
       "    </tr>\n",
       "    <tr>\n",
       "      <th>transmission</th>\n",
       "      <th></th>\n",
       "      <th></th>\n",
       "      <th></th>\n",
       "      <th></th>\n",
       "    </tr>\n",
       "  </thead>\n",
       "  <tbody>\n",
       "    <tr>\n",
       "      <th>Automatic</th>\n",
       "      <td>0</td>\n",
       "      <td>534</td>\n",
       "      <td>0</td>\n",
       "      <td>516</td>\n",
       "    </tr>\n",
       "    <tr>\n",
       "      <th>Manual</th>\n",
       "      <td>57</td>\n",
       "      <td>3868</td>\n",
       "      <td>38</td>\n",
       "      <td>3115</td>\n",
       "    </tr>\n",
       "  </tbody>\n",
       "</table>\n",
       "</div>"
      ],
      "text/plain": [
       "fuel          CNG  Diesel  LPG  Petrol\n",
       "transmission                          \n",
       "Automatic       0     534    0     516\n",
       "Manual         57    3868   38    3115"
      ]
     },
     "execution_count": 55,
     "metadata": {},
     "output_type": "execute_result"
    }
   ],
   "source": [
    "# Both Variables Categarical - Chi Square Test of Independence\n",
    "# Input of Chisquare Test is Cross Tabulation. Cross Tabulation is frequency table of\n",
    "# 2 Non Numeric Categorical Variables.\n",
    "\n",
    "# Test Null No Association between fuel and transmission\n",
    "\n",
    "pd.crosstab(dfcars.transmission,dfcars.fuel)"
   ]
  },
  {
   "cell_type": "code",
   "execution_count": 56,
   "id": "34ac7413",
   "metadata": {},
   "outputs": [],
   "source": [
    "# Null - There is no Association between both variables\n",
    "# Alt - There is Association between both variables"
   ]
  },
  {
   "cell_type": "code",
   "execution_count": 57,
   "id": "97fd5561",
   "metadata": {},
   "outputs": [],
   "source": [
    "from scipy.stats import chi2_contingency"
   ]
  },
  {
   "cell_type": "code",
   "execution_count": 58,
   "id": "962e73c4",
   "metadata": {},
   "outputs": [
    {
     "data": {
      "text/plain": [
       "Chi2ContingencyResult(statistic=21.912764347384904, pvalue=6.801498516561924e-05, dof=3, expected_freq=array([[   7.36343504,  568.66387795,    4.90895669,  469.06373031],\n",
       "       [  49.63656496, 3833.33612205,   33.09104331, 3161.93626969]]))"
      ]
     },
     "execution_count": 58,
     "metadata": {},
     "output_type": "execute_result"
    }
   ],
   "source": [
    "chi2_contingency(pd.crosstab(dfcars.transmission,dfcars.fuel))\n",
    "# Since pvalue=6.801498516561924e-05 is less than 0.05, Reject Null"
   ]
  },
  {
   "cell_type": "code",
   "execution_count": 59,
   "id": "9115f88b",
   "metadata": {},
   "outputs": [
    {
     "data": {
      "text/html": [
       "<div>\n",
       "<style scoped>\n",
       "    .dataframe tbody tr th:only-of-type {\n",
       "        vertical-align: middle;\n",
       "    }\n",
       "\n",
       "    .dataframe tbody tr th {\n",
       "        vertical-align: top;\n",
       "    }\n",
       "\n",
       "    .dataframe thead th {\n",
       "        text-align: right;\n",
       "    }\n",
       "</style>\n",
       "<table border=\"1\" class=\"dataframe\">\n",
       "  <thead>\n",
       "    <tr style=\"text-align: right;\">\n",
       "      <th>seller_type</th>\n",
       "      <th>Dealer</th>\n",
       "      <th>Individual</th>\n",
       "      <th>Trustmark Dealer</th>\n",
       "    </tr>\n",
       "    <tr>\n",
       "      <th>fuel</th>\n",
       "      <th></th>\n",
       "      <th></th>\n",
       "      <th></th>\n",
       "    </tr>\n",
       "  </thead>\n",
       "  <tbody>\n",
       "    <tr>\n",
       "      <th>CNG</th>\n",
       "      <td>0</td>\n",
       "      <td>57</td>\n",
       "      <td>0</td>\n",
       "    </tr>\n",
       "    <tr>\n",
       "      <th>Diesel</th>\n",
       "      <td>704</td>\n",
       "      <td>3664</td>\n",
       "      <td>34</td>\n",
       "    </tr>\n",
       "    <tr>\n",
       "      <th>LPG</th>\n",
       "      <td>2</td>\n",
       "      <td>36</td>\n",
       "      <td>0</td>\n",
       "    </tr>\n",
       "    <tr>\n",
       "      <th>Petrol</th>\n",
       "      <td>420</td>\n",
       "      <td>3009</td>\n",
       "      <td>202</td>\n",
       "    </tr>\n",
       "  </tbody>\n",
       "</table>\n",
       "</div>"
      ],
      "text/plain": [
       "seller_type  Dealer  Individual  Trustmark Dealer\n",
       "fuel                                             \n",
       "CNG               0          57                 0\n",
       "Diesel          704        3664                34\n",
       "LPG               2          36                 0\n",
       "Petrol          420        3009               202"
      ]
     },
     "execution_count": 59,
     "metadata": {},
     "output_type": "execute_result"
    }
   ],
   "source": [
    "# Test Null No Association between fuel and seller_type\n",
    "pd.crosstab(dfcars.fuel,dfcars.seller_type)"
   ]
  },
  {
   "cell_type": "code",
   "execution_count": 60,
   "id": "b68cc433",
   "metadata": {},
   "outputs": [],
   "source": [
    "# Null - There is no Association between both variables\n",
    "# Alt - There is Association between both variables"
   ]
  },
  {
   "cell_type": "code",
   "execution_count": 61,
   "id": "7e4ba6fc",
   "metadata": {},
   "outputs": [
    {
     "data": {
      "text/plain": [
       "Chi2ContingencyResult(statistic=200.82868982394092, pvalue=1.2641980292155646e-40, dof=6, expected_freq=array([[7.89640748e+00, 4.74485728e+01, 1.65501969e+00],\n",
       "       [6.09824311e+02, 3.66436171e+03, 1.27813976e+02],\n",
       "       [5.26427165e+00, 3.16323819e+01, 1.10334646e+00],\n",
       "       [5.03015010e+02, 3.02255733e+03, 1.05427657e+02]]))"
      ]
     },
     "execution_count": 61,
     "metadata": {},
     "output_type": "execute_result"
    }
   ],
   "source": [
    "chi2_contingency(pd.crosstab(dfcars.fuel,dfcars.seller_type))\n",
    "# Since pvalue=1.2641980292155646e-40 is less than 0.05, Reject Null"
   ]
  },
  {
   "cell_type": "code",
   "execution_count": 62,
   "id": "884bd364",
   "metadata": {},
   "outputs": [],
   "source": [
    "# T Test -Students T Distribution\n",
    "# Anova - F Distribution\n",
    "# ChiSquare - Chi Distribution"
   ]
  },
  {
   "cell_type": "code",
   "execution_count": 63,
   "id": "bb80c473",
   "metadata": {},
   "outputs": [
    {
     "data": {
      "text/plain": [
       "Index(['selling_price', 'km_driven', 'fuel', 'seller_type', 'transmission',\n",
       "       'owner', 'mileage', 'engine', 'max_power', 'seats', 'companyname',\n",
       "       'age'],\n",
       "      dtype='object')"
      ]
     },
     "execution_count": 63,
     "metadata": {},
     "output_type": "execute_result"
    }
   ],
   "source": [
    "dfcars.columns"
   ]
  },
  {
   "cell_type": "code",
   "execution_count": 64,
   "id": "fdb19053",
   "metadata": {},
   "outputs": [],
   "source": [
    "dfcars=pd.get_dummies(dfcars,columns=['fuel', 'seller_type', 'transmission','owner', 'seats', 'companyname'])"
   ]
  },
  {
   "cell_type": "code",
   "execution_count": 65,
   "id": "34b688e1",
   "metadata": {},
   "outputs": [],
   "source": [
    "pd.set_option(\"display.max_columns\",62)"
   ]
  },
  {
   "cell_type": "code",
   "execution_count": 66,
   "id": "5fb81bc2",
   "metadata": {},
   "outputs": [
    {
     "data": {
      "text/html": [
       "<div>\n",
       "<style scoped>\n",
       "    .dataframe tbody tr th:only-of-type {\n",
       "        vertical-align: middle;\n",
       "    }\n",
       "\n",
       "    .dataframe tbody tr th {\n",
       "        vertical-align: top;\n",
       "    }\n",
       "\n",
       "    .dataframe thead th {\n",
       "        text-align: right;\n",
       "    }\n",
       "</style>\n",
       "<table border=\"1\" class=\"dataframe\">\n",
       "  <thead>\n",
       "    <tr style=\"text-align: right;\">\n",
       "      <th></th>\n",
       "      <th>selling_price</th>\n",
       "      <th>km_driven</th>\n",
       "      <th>mileage</th>\n",
       "      <th>engine</th>\n",
       "      <th>max_power</th>\n",
       "      <th>age</th>\n",
       "      <th>fuel_CNG</th>\n",
       "      <th>fuel_Diesel</th>\n",
       "      <th>fuel_LPG</th>\n",
       "      <th>fuel_Petrol</th>\n",
       "      <th>seller_type_Dealer</th>\n",
       "      <th>seller_type_Individual</th>\n",
       "      <th>seller_type_Trustmark Dealer</th>\n",
       "      <th>transmission_Automatic</th>\n",
       "      <th>transmission_Manual</th>\n",
       "      <th>owner_First Owner</th>\n",
       "      <th>owner_Fourth &amp; Above Owner</th>\n",
       "      <th>owner_Second Owner</th>\n",
       "      <th>owner_Test Drive Car</th>\n",
       "      <th>owner_Third Owner</th>\n",
       "      <th>seats_2.0</th>\n",
       "      <th>seats_4.0</th>\n",
       "      <th>seats_5.0</th>\n",
       "      <th>seats_6.0</th>\n",
       "      <th>seats_7.0</th>\n",
       "      <th>seats_8.0</th>\n",
       "      <th>seats_9.0</th>\n",
       "      <th>seats_10.0</th>\n",
       "      <th>seats_14.0</th>\n",
       "      <th>companyname_Ambassador</th>\n",
       "      <th>companyname_Ashok</th>\n",
       "      <th>companyname_Audi</th>\n",
       "      <th>companyname_BMW</th>\n",
       "      <th>companyname_Chevrolet</th>\n",
       "      <th>companyname_Daewoo</th>\n",
       "      <th>companyname_Datsun</th>\n",
       "      <th>companyname_Fiat</th>\n",
       "      <th>companyname_Force</th>\n",
       "      <th>companyname_Ford</th>\n",
       "      <th>companyname_Honda</th>\n",
       "      <th>companyname_Hyundai</th>\n",
       "      <th>companyname_Isuzu</th>\n",
       "      <th>companyname_Jaguar</th>\n",
       "      <th>companyname_Jeep</th>\n",
       "      <th>companyname_Kia</th>\n",
       "      <th>companyname_Land</th>\n",
       "      <th>companyname_Lexus</th>\n",
       "      <th>companyname_MG</th>\n",
       "      <th>companyname_Mahindra</th>\n",
       "      <th>companyname_Maruti</th>\n",
       "      <th>companyname_Mercedes-Benz</th>\n",
       "      <th>companyname_Mitsubishi</th>\n",
       "      <th>companyname_Nissan</th>\n",
       "      <th>companyname_Opel</th>\n",
       "      <th>companyname_Peugeot</th>\n",
       "      <th>companyname_Renault</th>\n",
       "      <th>companyname_Skoda</th>\n",
       "      <th>companyname_Tata</th>\n",
       "      <th>companyname_Toyota</th>\n",
       "      <th>companyname_Volkswagen</th>\n",
       "      <th>companyname_Volvo</th>\n",
       "    </tr>\n",
       "  </thead>\n",
       "  <tbody>\n",
       "    <tr>\n",
       "      <th>0</th>\n",
       "      <td>450000</td>\n",
       "      <td>145500</td>\n",
       "      <td>23.40</td>\n",
       "      <td>1248.0</td>\n",
       "      <td>74.00</td>\n",
       "      <td>8</td>\n",
       "      <td>0</td>\n",
       "      <td>1</td>\n",
       "      <td>0</td>\n",
       "      <td>0</td>\n",
       "      <td>0</td>\n",
       "      <td>1</td>\n",
       "      <td>0</td>\n",
       "      <td>0</td>\n",
       "      <td>1</td>\n",
       "      <td>1</td>\n",
       "      <td>0</td>\n",
       "      <td>0</td>\n",
       "      <td>0</td>\n",
       "      <td>0</td>\n",
       "      <td>0</td>\n",
       "      <td>0</td>\n",
       "      <td>1</td>\n",
       "      <td>0</td>\n",
       "      <td>0</td>\n",
       "      <td>0</td>\n",
       "      <td>0</td>\n",
       "      <td>0</td>\n",
       "      <td>0</td>\n",
       "      <td>0</td>\n",
       "      <td>0</td>\n",
       "      <td>0</td>\n",
       "      <td>0</td>\n",
       "      <td>0</td>\n",
       "      <td>0</td>\n",
       "      <td>0</td>\n",
       "      <td>0</td>\n",
       "      <td>0</td>\n",
       "      <td>0</td>\n",
       "      <td>0</td>\n",
       "      <td>0</td>\n",
       "      <td>0</td>\n",
       "      <td>0</td>\n",
       "      <td>0</td>\n",
       "      <td>0</td>\n",
       "      <td>0</td>\n",
       "      <td>0</td>\n",
       "      <td>0</td>\n",
       "      <td>0</td>\n",
       "      <td>1</td>\n",
       "      <td>0</td>\n",
       "      <td>0</td>\n",
       "      <td>0</td>\n",
       "      <td>0</td>\n",
       "      <td>0</td>\n",
       "      <td>0</td>\n",
       "      <td>0</td>\n",
       "      <td>0</td>\n",
       "      <td>0</td>\n",
       "      <td>0</td>\n",
       "      <td>0</td>\n",
       "    </tr>\n",
       "    <tr>\n",
       "      <th>1</th>\n",
       "      <td>370000</td>\n",
       "      <td>120000</td>\n",
       "      <td>21.14</td>\n",
       "      <td>1498.0</td>\n",
       "      <td>103.52</td>\n",
       "      <td>8</td>\n",
       "      <td>0</td>\n",
       "      <td>1</td>\n",
       "      <td>0</td>\n",
       "      <td>0</td>\n",
       "      <td>0</td>\n",
       "      <td>1</td>\n",
       "      <td>0</td>\n",
       "      <td>0</td>\n",
       "      <td>1</td>\n",
       "      <td>0</td>\n",
       "      <td>0</td>\n",
       "      <td>1</td>\n",
       "      <td>0</td>\n",
       "      <td>0</td>\n",
       "      <td>0</td>\n",
       "      <td>0</td>\n",
       "      <td>1</td>\n",
       "      <td>0</td>\n",
       "      <td>0</td>\n",
       "      <td>0</td>\n",
       "      <td>0</td>\n",
       "      <td>0</td>\n",
       "      <td>0</td>\n",
       "      <td>0</td>\n",
       "      <td>0</td>\n",
       "      <td>0</td>\n",
       "      <td>0</td>\n",
       "      <td>0</td>\n",
       "      <td>0</td>\n",
       "      <td>0</td>\n",
       "      <td>0</td>\n",
       "      <td>0</td>\n",
       "      <td>0</td>\n",
       "      <td>0</td>\n",
       "      <td>0</td>\n",
       "      <td>0</td>\n",
       "      <td>0</td>\n",
       "      <td>0</td>\n",
       "      <td>0</td>\n",
       "      <td>0</td>\n",
       "      <td>0</td>\n",
       "      <td>0</td>\n",
       "      <td>0</td>\n",
       "      <td>0</td>\n",
       "      <td>0</td>\n",
       "      <td>0</td>\n",
       "      <td>0</td>\n",
       "      <td>0</td>\n",
       "      <td>0</td>\n",
       "      <td>0</td>\n",
       "      <td>1</td>\n",
       "      <td>0</td>\n",
       "      <td>0</td>\n",
       "      <td>0</td>\n",
       "      <td>0</td>\n",
       "    </tr>\n",
       "    <tr>\n",
       "      <th>2</th>\n",
       "      <td>158000</td>\n",
       "      <td>140000</td>\n",
       "      <td>17.70</td>\n",
       "      <td>1497.0</td>\n",
       "      <td>78.00</td>\n",
       "      <td>16</td>\n",
       "      <td>0</td>\n",
       "      <td>0</td>\n",
       "      <td>0</td>\n",
       "      <td>1</td>\n",
       "      <td>0</td>\n",
       "      <td>1</td>\n",
       "      <td>0</td>\n",
       "      <td>0</td>\n",
       "      <td>1</td>\n",
       "      <td>0</td>\n",
       "      <td>0</td>\n",
       "      <td>0</td>\n",
       "      <td>0</td>\n",
       "      <td>1</td>\n",
       "      <td>0</td>\n",
       "      <td>0</td>\n",
       "      <td>1</td>\n",
       "      <td>0</td>\n",
       "      <td>0</td>\n",
       "      <td>0</td>\n",
       "      <td>0</td>\n",
       "      <td>0</td>\n",
       "      <td>0</td>\n",
       "      <td>0</td>\n",
       "      <td>0</td>\n",
       "      <td>0</td>\n",
       "      <td>0</td>\n",
       "      <td>0</td>\n",
       "      <td>0</td>\n",
       "      <td>0</td>\n",
       "      <td>0</td>\n",
       "      <td>0</td>\n",
       "      <td>0</td>\n",
       "      <td>1</td>\n",
       "      <td>0</td>\n",
       "      <td>0</td>\n",
       "      <td>0</td>\n",
       "      <td>0</td>\n",
       "      <td>0</td>\n",
       "      <td>0</td>\n",
       "      <td>0</td>\n",
       "      <td>0</td>\n",
       "      <td>0</td>\n",
       "      <td>0</td>\n",
       "      <td>0</td>\n",
       "      <td>0</td>\n",
       "      <td>0</td>\n",
       "      <td>0</td>\n",
       "      <td>0</td>\n",
       "      <td>0</td>\n",
       "      <td>0</td>\n",
       "      <td>0</td>\n",
       "      <td>0</td>\n",
       "      <td>0</td>\n",
       "      <td>0</td>\n",
       "    </tr>\n",
       "    <tr>\n",
       "      <th>3</th>\n",
       "      <td>225000</td>\n",
       "      <td>127000</td>\n",
       "      <td>23.00</td>\n",
       "      <td>1396.0</td>\n",
       "      <td>90.00</td>\n",
       "      <td>12</td>\n",
       "      <td>0</td>\n",
       "      <td>1</td>\n",
       "      <td>0</td>\n",
       "      <td>0</td>\n",
       "      <td>0</td>\n",
       "      <td>1</td>\n",
       "      <td>0</td>\n",
       "      <td>0</td>\n",
       "      <td>1</td>\n",
       "      <td>1</td>\n",
       "      <td>0</td>\n",
       "      <td>0</td>\n",
       "      <td>0</td>\n",
       "      <td>0</td>\n",
       "      <td>0</td>\n",
       "      <td>0</td>\n",
       "      <td>1</td>\n",
       "      <td>0</td>\n",
       "      <td>0</td>\n",
       "      <td>0</td>\n",
       "      <td>0</td>\n",
       "      <td>0</td>\n",
       "      <td>0</td>\n",
       "      <td>0</td>\n",
       "      <td>0</td>\n",
       "      <td>0</td>\n",
       "      <td>0</td>\n",
       "      <td>0</td>\n",
       "      <td>0</td>\n",
       "      <td>0</td>\n",
       "      <td>0</td>\n",
       "      <td>0</td>\n",
       "      <td>0</td>\n",
       "      <td>0</td>\n",
       "      <td>1</td>\n",
       "      <td>0</td>\n",
       "      <td>0</td>\n",
       "      <td>0</td>\n",
       "      <td>0</td>\n",
       "      <td>0</td>\n",
       "      <td>0</td>\n",
       "      <td>0</td>\n",
       "      <td>0</td>\n",
       "      <td>0</td>\n",
       "      <td>0</td>\n",
       "      <td>0</td>\n",
       "      <td>0</td>\n",
       "      <td>0</td>\n",
       "      <td>0</td>\n",
       "      <td>0</td>\n",
       "      <td>0</td>\n",
       "      <td>0</td>\n",
       "      <td>0</td>\n",
       "      <td>0</td>\n",
       "      <td>0</td>\n",
       "    </tr>\n",
       "    <tr>\n",
       "      <th>4</th>\n",
       "      <td>130000</td>\n",
       "      <td>120000</td>\n",
       "      <td>16.10</td>\n",
       "      <td>1298.0</td>\n",
       "      <td>88.20</td>\n",
       "      <td>15</td>\n",
       "      <td>0</td>\n",
       "      <td>0</td>\n",
       "      <td>0</td>\n",
       "      <td>1</td>\n",
       "      <td>0</td>\n",
       "      <td>1</td>\n",
       "      <td>0</td>\n",
       "      <td>0</td>\n",
       "      <td>1</td>\n",
       "      <td>1</td>\n",
       "      <td>0</td>\n",
       "      <td>0</td>\n",
       "      <td>0</td>\n",
       "      <td>0</td>\n",
       "      <td>0</td>\n",
       "      <td>0</td>\n",
       "      <td>1</td>\n",
       "      <td>0</td>\n",
       "      <td>0</td>\n",
       "      <td>0</td>\n",
       "      <td>0</td>\n",
       "      <td>0</td>\n",
       "      <td>0</td>\n",
       "      <td>0</td>\n",
       "      <td>0</td>\n",
       "      <td>0</td>\n",
       "      <td>0</td>\n",
       "      <td>0</td>\n",
       "      <td>0</td>\n",
       "      <td>0</td>\n",
       "      <td>0</td>\n",
       "      <td>0</td>\n",
       "      <td>0</td>\n",
       "      <td>0</td>\n",
       "      <td>0</td>\n",
       "      <td>0</td>\n",
       "      <td>0</td>\n",
       "      <td>0</td>\n",
       "      <td>0</td>\n",
       "      <td>0</td>\n",
       "      <td>0</td>\n",
       "      <td>0</td>\n",
       "      <td>0</td>\n",
       "      <td>1</td>\n",
       "      <td>0</td>\n",
       "      <td>0</td>\n",
       "      <td>0</td>\n",
       "      <td>0</td>\n",
       "      <td>0</td>\n",
       "      <td>0</td>\n",
       "      <td>0</td>\n",
       "      <td>0</td>\n",
       "      <td>0</td>\n",
       "      <td>0</td>\n",
       "      <td>0</td>\n",
       "    </tr>\n",
       "  </tbody>\n",
       "</table>\n",
       "</div>"
      ],
      "text/plain": [
       "   selling_price  km_driven  mileage  engine  max_power  age  fuel_CNG  \\\n",
       "0         450000     145500    23.40  1248.0      74.00    8         0   \n",
       "1         370000     120000    21.14  1498.0     103.52    8         0   \n",
       "2         158000     140000    17.70  1497.0      78.00   16         0   \n",
       "3         225000     127000    23.00  1396.0      90.00   12         0   \n",
       "4         130000     120000    16.10  1298.0      88.20   15         0   \n",
       "\n",
       "   fuel_Diesel  fuel_LPG  fuel_Petrol  seller_type_Dealer  \\\n",
       "0            1         0            0                   0   \n",
       "1            1         0            0                   0   \n",
       "2            0         0            1                   0   \n",
       "3            1         0            0                   0   \n",
       "4            0         0            1                   0   \n",
       "\n",
       "   seller_type_Individual  seller_type_Trustmark Dealer  \\\n",
       "0                       1                             0   \n",
       "1                       1                             0   \n",
       "2                       1                             0   \n",
       "3                       1                             0   \n",
       "4                       1                             0   \n",
       "\n",
       "   transmission_Automatic  transmission_Manual  owner_First Owner  \\\n",
       "0                       0                    1                  1   \n",
       "1                       0                    1                  0   \n",
       "2                       0                    1                  0   \n",
       "3                       0                    1                  1   \n",
       "4                       0                    1                  1   \n",
       "\n",
       "   owner_Fourth & Above Owner  owner_Second Owner  owner_Test Drive Car  \\\n",
       "0                           0                   0                     0   \n",
       "1                           0                   1                     0   \n",
       "2                           0                   0                     0   \n",
       "3                           0                   0                     0   \n",
       "4                           0                   0                     0   \n",
       "\n",
       "   owner_Third Owner  seats_2.0  seats_4.0  seats_5.0  seats_6.0  seats_7.0  \\\n",
       "0                  0          0          0          1          0          0   \n",
       "1                  0          0          0          1          0          0   \n",
       "2                  1          0          0          1          0          0   \n",
       "3                  0          0          0          1          0          0   \n",
       "4                  0          0          0          1          0          0   \n",
       "\n",
       "   seats_8.0  seats_9.0  seats_10.0  seats_14.0  companyname_Ambassador  \\\n",
       "0          0          0           0           0                       0   \n",
       "1          0          0           0           0                       0   \n",
       "2          0          0           0           0                       0   \n",
       "3          0          0           0           0                       0   \n",
       "4          0          0           0           0                       0   \n",
       "\n",
       "   companyname_Ashok  companyname_Audi  companyname_BMW  \\\n",
       "0                  0                 0                0   \n",
       "1                  0                 0                0   \n",
       "2                  0                 0                0   \n",
       "3                  0                 0                0   \n",
       "4                  0                 0                0   \n",
       "\n",
       "   companyname_Chevrolet  companyname_Daewoo  companyname_Datsun  \\\n",
       "0                      0                   0                   0   \n",
       "1                      0                   0                   0   \n",
       "2                      0                   0                   0   \n",
       "3                      0                   0                   0   \n",
       "4                      0                   0                   0   \n",
       "\n",
       "   companyname_Fiat  companyname_Force  companyname_Ford  companyname_Honda  \\\n",
       "0                 0                  0                 0                  0   \n",
       "1                 0                  0                 0                  0   \n",
       "2                 0                  0                 0                  1   \n",
       "3                 0                  0                 0                  0   \n",
       "4                 0                  0                 0                  0   \n",
       "\n",
       "   companyname_Hyundai  companyname_Isuzu  companyname_Jaguar  \\\n",
       "0                    0                  0                   0   \n",
       "1                    0                  0                   0   \n",
       "2                    0                  0                   0   \n",
       "3                    1                  0                   0   \n",
       "4                    0                  0                   0   \n",
       "\n",
       "   companyname_Jeep  companyname_Kia  companyname_Land  companyname_Lexus  \\\n",
       "0                 0                0                 0                  0   \n",
       "1                 0                0                 0                  0   \n",
       "2                 0                0                 0                  0   \n",
       "3                 0                0                 0                  0   \n",
       "4                 0                0                 0                  0   \n",
       "\n",
       "   companyname_MG  companyname_Mahindra  companyname_Maruti  \\\n",
       "0               0                     0                   1   \n",
       "1               0                     0                   0   \n",
       "2               0                     0                   0   \n",
       "3               0                     0                   0   \n",
       "4               0                     0                   1   \n",
       "\n",
       "   companyname_Mercedes-Benz  companyname_Mitsubishi  companyname_Nissan  \\\n",
       "0                          0                       0                   0   \n",
       "1                          0                       0                   0   \n",
       "2                          0                       0                   0   \n",
       "3                          0                       0                   0   \n",
       "4                          0                       0                   0   \n",
       "\n",
       "   companyname_Opel  companyname_Peugeot  companyname_Renault  \\\n",
       "0                 0                    0                    0   \n",
       "1                 0                    0                    0   \n",
       "2                 0                    0                    0   \n",
       "3                 0                    0                    0   \n",
       "4                 0                    0                    0   \n",
       "\n",
       "   companyname_Skoda  companyname_Tata  companyname_Toyota  \\\n",
       "0                  0                 0                   0   \n",
       "1                  1                 0                   0   \n",
       "2                  0                 0                   0   \n",
       "3                  0                 0                   0   \n",
       "4                  0                 0                   0   \n",
       "\n",
       "   companyname_Volkswagen  companyname_Volvo  \n",
       "0                       0                  0  \n",
       "1                       0                  0  \n",
       "2                       0                  0  \n",
       "3                       0                  0  \n",
       "4                       0                  0  "
      ]
     },
     "execution_count": 66,
     "metadata": {},
     "output_type": "execute_result"
    }
   ],
   "source": [
    "dfcars.head()"
   ]
  },
  {
   "cell_type": "code",
   "execution_count": 67,
   "id": "d88112ff",
   "metadata": {},
   "outputs": [],
   "source": [
    "# distribution of dependent variable(y) decides whether to use Regression or Classification\n",
    "# Regression Algorithms - Dependent Variable (y) is numerical, continuos, closer to\n",
    "# normal distribution(bell curve), with minimum outliers, and no missing values.\n",
    "\n",
    "# Classification Algorithsm - Dependent Variable(y) is non numeric either binary(yes/no) or\n",
    "# multinomial (more than 2 levels/classes/gorups)\n",
    "\n",
    "# Multiple Linear Regression explains linear relationship between dependent variable(y) and\n",
    "# multiple independent variables(X's). Multiple Linear Regression is an equation\n",
    "\n",
    "# y = B0+B1X1+B2X2+B3X3+B4X4 + ........... +BnXn+Et\n",
    "# y - Dependent Variable or Predicted Variable\n",
    "# Bo - Intercept or Constant (point at which straight line touched y axis)\n",
    "# B1,B2,B3,B4,..Bn - Coefficients\n",
    "# X1,X2,X3,X4,,,,Xn - Independent Variables or Predictors\n",
    "# Et - Error term or Residual=ActualValue - PredictedValue\n",
    "\n",
    "# Assumptions - MLR is parametric Algorithm(many assumptions) - Pre Model\n",
    "# 1) Dependent Variable y must be numerical,continuous, closer to normal distribution with\n",
    "# minimum outliers and no missing values\n",
    "# 2) Independent Variabels(X's) can be both numerical and nonnumeric categorical\n",
    "# 3) No Multicollinearity - Multicollinearity is very strong correlation(>0.90) among\n",
    "# variables. If multicollinearity is found do not include both variables choose .\n",
    "\n",
    "# Post Model Assumptions\n",
    "# 7) Residuals must be normally distributed. Check using Q-Q plot\n",
    "# 8) Residuals must be homosceadstic in nature\n",
    "\n",
    "\n",
    "# Interpretation of Output (Python Only)\n",
    "# R Square must be between 0.60 - 0.95. R SQuare explains amount of variance occuring in\n",
    "# dependent variable caused by independent variables or model.\n",
    "# less than 0.60 - Underfitting\n",
    "# greater than 0.95 - Overfitting\n",
    "\n",
    "# Intercept + Coefficients for creating predictive equation\n",
    "\n",
    "# Statistical Interpretation of Output\n",
    "# 1) Adjusted R Square must be between 0.60 - 0.95. Adj R Square is sensitive to independent\n",
    "# variable significance, if independent variable is significant it will increase and if\n",
    "# variable is insignificant it will decrease.\n",
    "\n",
    "# 2) model p-value(lies below Adjusted R SQuare) or Significance F in MS Excel must be\n",
    "# less than 0.05. Reject Null\n",
    "# Null - Coefficients(B's) are equal to Zero\n",
    "# Alt - Coefficients(B's) are not equal to Zero\n",
    "\n",
    "# 3) Independent Variables(X's) p-value must be less than 0.05. Reject Null\n",
    "# Null - Independent Variable is Insignificant\n",
    "# Alt - Independent Variable is Significant"
   ]
  },
  {
   "cell_type": "code",
   "execution_count": 68,
   "id": "d7c32f46",
   "metadata": {},
   "outputs": [
    {
     "data": {
      "text/plain": [
       "Index(['selling_price', 'km_driven', 'mileage', 'engine', 'max_power', 'age',\n",
       "       'fuel_CNG', 'fuel_Diesel', 'fuel_LPG', 'fuel_Petrol',\n",
       "       'seller_type_Dealer', 'seller_type_Individual',\n",
       "       'seller_type_Trustmark Dealer', 'transmission_Automatic',\n",
       "       'transmission_Manual', 'owner_First Owner',\n",
       "       'owner_Fourth & Above Owner', 'owner_Second Owner',\n",
       "       'owner_Test Drive Car', 'owner_Third Owner', 'seats_2.0', 'seats_4.0',\n",
       "       'seats_5.0', 'seats_6.0', 'seats_7.0', 'seats_8.0', 'seats_9.0',\n",
       "       'seats_10.0', 'seats_14.0', 'companyname_Ambassador',\n",
       "       'companyname_Ashok', 'companyname_Audi', 'companyname_BMW',\n",
       "       'companyname_Chevrolet', 'companyname_Daewoo', 'companyname_Datsun',\n",
       "       'companyname_Fiat', 'companyname_Force', 'companyname_Ford',\n",
       "       'companyname_Honda', 'companyname_Hyundai', 'companyname_Isuzu',\n",
       "       'companyname_Jaguar', 'companyname_Jeep', 'companyname_Kia',\n",
       "       'companyname_Land', 'companyname_Lexus', 'companyname_MG',\n",
       "       'companyname_Mahindra', 'companyname_Maruti',\n",
       "       'companyname_Mercedes-Benz', 'companyname_Mitsubishi',\n",
       "       'companyname_Nissan', 'companyname_Opel', 'companyname_Peugeot',\n",
       "       'companyname_Renault', 'companyname_Skoda', 'companyname_Tata',\n",
       "       'companyname_Toyota', 'companyname_Volkswagen', 'companyname_Volvo'],\n",
       "      dtype='object')"
      ]
     },
     "execution_count": 68,
     "metadata": {},
     "output_type": "execute_result"
    }
   ],
   "source": [
    "dfcars.columns"
   ]
  },
  {
   "cell_type": "code",
   "execution_count": 69,
   "id": "976df330",
   "metadata": {},
   "outputs": [
    {
     "data": {
      "text/html": [
       "<div>\n",
       "<style scoped>\n",
       "    .dataframe tbody tr th:only-of-type {\n",
       "        vertical-align: middle;\n",
       "    }\n",
       "\n",
       "    .dataframe tbody tr th {\n",
       "        vertical-align: top;\n",
       "    }\n",
       "\n",
       "    .dataframe thead th {\n",
       "        text-align: right;\n",
       "    }\n",
       "</style>\n",
       "<table border=\"1\" class=\"dataframe\">\n",
       "  <thead>\n",
       "    <tr style=\"text-align: right;\">\n",
       "      <th></th>\n",
       "      <th>selling_price</th>\n",
       "      <th>km_driven</th>\n",
       "      <th>mileage</th>\n",
       "      <th>engine</th>\n",
       "      <th>max_power</th>\n",
       "      <th>age</th>\n",
       "    </tr>\n",
       "  </thead>\n",
       "  <tbody>\n",
       "    <tr>\n",
       "      <th>selling_price</th>\n",
       "      <td>1.000000</td>\n",
       "      <td>-0.225534</td>\n",
       "      <td>-0.125040</td>\n",
       "      <td>0.458345</td>\n",
       "      <td>0.747935</td>\n",
       "      <td>-0.414092</td>\n",
       "    </tr>\n",
       "    <tr>\n",
       "      <th>km_driven</th>\n",
       "      <td>-0.225534</td>\n",
       "      <td>1.000000</td>\n",
       "      <td>-0.171746</td>\n",
       "      <td>0.198911</td>\n",
       "      <td>-0.040599</td>\n",
       "      <td>0.418006</td>\n",
       "    </tr>\n",
       "    <tr>\n",
       "      <th>mileage</th>\n",
       "      <td>-0.125040</td>\n",
       "      <td>-0.171746</td>\n",
       "      <td>1.000000</td>\n",
       "      <td>-0.574128</td>\n",
       "      <td>-0.372897</td>\n",
       "      <td>-0.311657</td>\n",
       "    </tr>\n",
       "    <tr>\n",
       "      <th>engine</th>\n",
       "      <td>0.458345</td>\n",
       "      <td>0.198911</td>\n",
       "      <td>-0.574128</td>\n",
       "      <td>1.000000</td>\n",
       "      <td>0.703612</td>\n",
       "      <td>-0.035851</td>\n",
       "    </tr>\n",
       "    <tr>\n",
       "      <th>max_power</th>\n",
       "      <td>0.747935</td>\n",
       "      <td>-0.040599</td>\n",
       "      <td>-0.372897</td>\n",
       "      <td>0.703612</td>\n",
       "      <td>1.000000</td>\n",
       "      <td>-0.224704</td>\n",
       "    </tr>\n",
       "    <tr>\n",
       "      <th>age</th>\n",
       "      <td>-0.414092</td>\n",
       "      <td>0.418006</td>\n",
       "      <td>-0.311657</td>\n",
       "      <td>-0.035851</td>\n",
       "      <td>-0.224704</td>\n",
       "      <td>1.000000</td>\n",
       "    </tr>\n",
       "  </tbody>\n",
       "</table>\n",
       "</div>"
      ],
      "text/plain": [
       "               selling_price  km_driven   mileage    engine  max_power  \\\n",
       "selling_price       1.000000  -0.225534 -0.125040  0.458345   0.747935   \n",
       "km_driven          -0.225534   1.000000 -0.171746  0.198911  -0.040599   \n",
       "mileage            -0.125040  -0.171746  1.000000 -0.574128  -0.372897   \n",
       "engine              0.458345   0.198911 -0.574128  1.000000   0.703612   \n",
       "max_power           0.747935  -0.040599 -0.372897  0.703612   1.000000   \n",
       "age                -0.414092   0.418006 -0.311657 -0.035851  -0.224704   \n",
       "\n",
       "                    age  \n",
       "selling_price -0.414092  \n",
       "km_driven      0.418006  \n",
       "mileage       -0.311657  \n",
       "engine        -0.035851  \n",
       "max_power     -0.224704  \n",
       "age            1.000000  "
      ]
     },
     "execution_count": 69,
     "metadata": {},
     "output_type": "execute_result"
    }
   ],
   "source": [
    "# Check for Multicollinearity\n",
    "dfcars[['selling_price', 'km_driven', 'mileage', 'engine', 'max_power', 'age']].corr() # No Multicollinearity"
   ]
  },
  {
   "cell_type": "code",
   "execution_count": 70,
   "id": "ff51db64",
   "metadata": {},
   "outputs": [
    {
     "data": {
      "text/plain": [
       "<Axes: >"
      ]
     },
     "execution_count": 70,
     "metadata": {},
     "output_type": "execute_result"
    },
    {
     "data": {
      "image/png": "[encoded data removed]",
      "text/plain": [
       "<Figure size 640x480 with 2 Axes>"
      ]
     },
     "metadata": {},
     "output_type": "display_data"
    }
   ],
   "source": [
    "sns.heatmap(dfcars[['selling_price', 'km_driven', 'mileage', 'engine', 'max_power','age']].corr(),annot=True,cmap=\"plasma\")"
   ]
  },
  {
   "cell_type": "code",
   "execution_count": 71,
   "id": "310328e6",
   "metadata": {},
   "outputs": [],
   "source": [
    "# Split Data into Dependent Variable(y) and Independent Variables(X)\n",
    "y=dfcars.selling_price\n",
    "X=dfcars.drop(\"selling_price\",axis=1)"
   ]
  },
  {
   "cell_type": "code",
   "execution_count": 72,
   "id": "23282077",
   "metadata": {},
   "outputs": [],
   "source": [
    "from sklearn.linear_model import LinearRegression"
   ]
  },
  {
   "cell_type": "code",
   "execution_count": 73,
   "id": "93430c91",
   "metadata": {},
   "outputs": [],
   "source": [
    "reg_mod = LinearRegression().fit(X,y)"
   ]
  },
  {
   "cell_type": "code",
   "execution_count": 74,
   "id": "06663a4e",
   "metadata": {},
   "outputs": [
    {
     "data": {
      "text/plain": [
       "0.8545731690121141"
      ]
     },
     "execution_count": 74,
     "metadata": {},
     "output_type": "execute_result"
    }
   ],
   "source": [
    "reg_mod.score(X,y)"
   ]
  },
  {
   "cell_type": "code",
   "execution_count": 75,
   "id": "60d2655d",
   "metadata": {},
   "outputs": [],
   "source": [
    "# R Square -0.8551297833952861\n",
    "# 85.51% variance in selling_price(y) is explained by this model"
   ]
  },
  {
   "cell_type": "code",
   "execution_count": 76,
   "id": "1e47e9f1",
   "metadata": {},
   "outputs": [
    {
     "data": {
      "text/plain": [
       "1364267.0501897852"
      ]
     },
     "execution_count": 76,
     "metadata": {},
     "output_type": "execute_result"
    }
   ],
   "source": [
    "reg_mod.intercept_"
   ]
  },
  {
   "cell_type": "code",
   "execution_count": 77,
   "id": "84301145",
   "metadata": {},
   "outputs": [
    {
     "name": "stdout",
     "output_type": "stream",
     "text": [
      "[('km_driven', -0.6192780739537413), ('mileage', 482.5197794294802), ('engine', 53.94119479830988), ('max_power', 6552.933600487457), ('age', -43730.480591997155), ('fuel_CNG', -92553.1618446298), ('fuel_Diesel', 36673.51206626475), ('fuel_LPG', 97271.87637182185), ('fuel_Petrol', -41392.22659378243), ('seller_type_Dealer', 40789.67805692641), ('seller_type_Individual', -18701.426700469165), ('seller_type_Trustmark Dealer', -22088.251356574707), ('transmission_Automatic', 47224.585206872594), ('transmission_Manual', -47224.58520684749), ('owner_First Owner', -471298.95166056603), ('owner_Fourth & Above Owner', -492143.47159573634), ('owner_Second Owner', -526296.1923821453), ('owner_Test Drive Car', 1991969.72109034), ('owner_Third Owner', -502231.1054517361), ('seats_2.0', -64221.52217190686), ('seats_4.0', 320804.48942602135), ('seats_5.0', -51778.62490441711), ('seats_6.0', -128196.64594417764), ('seats_7.0', -4178.765887501941), ('seats_8.0', -72906.00165325287), ('seats_9.0', 2622.2180389895802), ('seats_10.0', 90144.38111420174), ('seats_14.0', -92289.52801822333), ('companyname_Ambassador', -155892.70489795582), ('companyname_Ashok', -498344.69379588676), ('companyname_Audi', 454906.57863751374), ('companyname_BMW', 1995933.3249862166), ('companyname_Chevrolet', -648810.4639282012), ('companyname_Daewoo', -58188.94163161736), ('companyname_Datsun', -680533.4889438814), ('companyname_Fiat', -608280.9268213074), ('companyname_Force', -577477.0078911834), ('companyname_Ford', -562320.607580901), ('companyname_Honda', -573324.8291443628), ('companyname_Hyundai', -549350.5445534544), ('companyname_Isuzu', 27334.81931821825), ('companyname_Jaguar', 887683.6146096995), ('companyname_Jeep', 176868.71256897826), ('companyname_Kia', -125088.03779349595), ('companyname_Land', 1773082.3627458897), ('companyname_Lexus', 2854822.34071082), ('companyname_MG', 10826.556024716487), ('companyname_Mahindra', -558147.5434070758), ('companyname_Maruti', -489160.2144692183), ('companyname_Mercedes-Benz', 595996.8624276087), ('companyname_Mitsubishi', -291592.4442575371), ('companyname_Nissan', -582026.3706801196), ('companyname_Opel', -114381.88462752505), ('companyname_Peugeot', -176594.01515358753), ('companyname_Renault', -585064.3073079872), ('companyname_Skoda', -590025.0547312715), ('companyname_Tata', -680705.6582231758), ('companyname_Toyota', -275132.9662625492), ('companyname_Volkswagen', -636014.5980732044), ('companyname_Volvo', 1239002.132145627)]\n"
     ]
    }
   ],
   "source": [
    "print(list(zip(X.columns,reg_mod.coef_)))"
   ]
  },
  {
   "cell_type": "code",
   "execution_count": 78,
   "id": "cfd8b83f",
   "metadata": {},
   "outputs": [],
   "source": [
    "reg_pre = reg_mod.predict(X) ## Predicted selling price"
   ]
  },
  {
   "cell_type": "code",
   "execution_count": 79,
   "id": "edb17b6d",
   "metadata": {},
   "outputs": [],
   "source": [
    "# Residual = Actual selling_price - Predicted selling_price\n",
    "regresid=y-reg_pre"
   ]
  },
  {
   "cell_type": "code",
   "execution_count": 80,
   "id": "18d64b60",
   "metadata": {},
   "outputs": [
    {
     "data": {
      "text/plain": [
       "307444.7728539159"
      ]
     },
     "execution_count": 80,
     "metadata": {},
     "output_type": "execute_result"
    }
   ],
   "source": [
    "# Root Mean Square Error (RMSE) - Diagnostic for all Regression Algorithms\n",
    "np.sqrt(np.mean(regresid**2)) # RMSE - 306855.8435"
   ]
  },
  {
   "cell_type": "code",
   "execution_count": 81,
   "id": "31fd4bc8",
   "metadata": {},
   "outputs": [
    {
     "name": "stdout",
     "output_type": "stream",
     "text": [
      "Skewness 4.193533440675855\n",
      "Kurtosis 21.081289012186755\n"
     ]
    }
   ],
   "source": [
    "print(\"Skewness\",y.skew())\n",
    "print(\"Kurtosis\",y.kurt())"
   ]
  },
  {
   "cell_type": "code",
   "execution_count": 82,
   "id": "34399cc0",
   "metadata": {},
   "outputs": [],
   "source": [
    "# Dependent Variable - has Skewness and Kurtosis - Not Closer to Normal Distribution\n",
    "# Positive Skewness - Logarthmic Transformation or Square Root Transformation\n",
    "# Negative Skewness - Exponential Transformation or Power Transformation"
   ]
  },
  {
   "cell_type": "code",
   "execution_count": 83,
   "id": "b6188129",
   "metadata": {},
   "outputs": [
    {
     "data": {
      "text/plain": [
       "<Axes: ylabel='Density'>"
      ]
     },
     "execution_count": 83,
     "metadata": {},
     "output_type": "execute_result"
    },
    {
     "data": {
      "image/png": "[encoded data removed]",
      "text/plain": [
       "<Figure size 640x480 with 1 Axes>"
      ]
     },
     "metadata": {},
     "output_type": "display_data"
    }
   ],
   "source": [
    "np.log(y).plot(kind=\"density\")"
   ]
  },
  {
   "cell_type": "code",
   "execution_count": 84,
   "id": "2dfa5b2d",
   "metadata": {},
   "outputs": [],
   "source": [
    "# Log Linear Model\n",
    "regmodel2=LinearRegression().fit(X,np.log(y))"
   ]
  },
  {
   "cell_type": "code",
   "execution_count": 85,
   "id": "2017a167",
   "metadata": {},
   "outputs": [
    {
     "data": {
      "text/plain": [
       "0.9096184444841959"
      ]
     },
     "execution_count": 85,
     "metadata": {},
     "output_type": "execute_result"
    }
   ],
   "source": [
    "regmodel2.score(X,np.log(y))"
   ]
  },
  {
   "cell_type": "code",
   "execution_count": 86,
   "id": "d8384593",
   "metadata": {},
   "outputs": [],
   "source": [
    "regmodel2_predict=regmodel2.predict(X)"
   ]
  },
  {
   "cell_type": "code",
   "execution_count": 87,
   "id": "432d6a37",
   "metadata": {},
   "outputs": [],
   "source": [
    "regmodel2_predict=np.exp(regmodel2_predict)"
   ]
  },
  {
   "cell_type": "code",
   "execution_count": 88,
   "id": "d391c5ae",
   "metadata": {},
   "outputs": [],
   "source": [
    "regmodel2_resid=y-regmodel2_predict"
   ]
  },
  {
   "cell_type": "code",
   "execution_count": 89,
   "id": "e910171d",
   "metadata": {},
   "outputs": [
    {
     "data": {
      "text/plain": [
       "207902.3896183564"
      ]
     },
     "execution_count": 89,
     "metadata": {},
     "output_type": "execute_result"
    }
   ],
   "source": [
    "np.sqrt(np.mean(regmodel2_resid**2))"
   ]
  },
  {
   "cell_type": "code",
   "execution_count": 90,
   "id": "9470a06a",
   "metadata": {
    "scrolled": true
   },
   "outputs": [
    {
     "data": {
      "text/plain": [
       "count        8128.00\n",
       "mean       638271.81\n",
       "std        806253.40\n",
       "min         29999.00\n",
       "25%        254999.00\n",
       "50%        450000.00\n",
       "75%        675000.00\n",
       "max      10000000.00\n",
       "Name: selling_price, dtype: float64"
      ]
     },
     "execution_count": 90,
     "metadata": {},
     "output_type": "execute_result"
    }
   ],
   "source": [
    "np.round(dfcars.selling_price.describe(),2)"
   ]
  },
  {
   "cell_type": "code",
   "execution_count": 91,
   "id": "e068b648",
   "metadata": {},
   "outputs": [],
   "source": [
    "from sklearn.tree import DecisionTreeRegressor"
   ]
  },
  {
   "cell_type": "code",
   "execution_count": 92,
   "id": "f9228546",
   "metadata": {},
   "outputs": [],
   "source": [
    "treemodel=DecisionTreeRegressor(max_depth=8).fit(X,y)"
   ]
  },
  {
   "cell_type": "code",
   "execution_count": 93,
   "id": "ec12a4ad",
   "metadata": {},
   "outputs": [
    {
     "data": {
      "text/plain": [
       "0.9784730040725945"
      ]
     },
     "execution_count": 93,
     "metadata": {},
     "output_type": "execute_result"
    }
   ],
   "source": [
    "treemodel.score(X,y)"
   ]
  },
  {
   "cell_type": "code",
   "execution_count": 94,
   "id": "ff72bdfc",
   "metadata": {},
   "outputs": [],
   "source": [
    "from sklearn.model_selection import cross_val_score"
   ]
  },
  {
   "cell_type": "code",
   "execution_count": 95,
   "id": "3dc3431e",
   "metadata": {},
   "outputs": [
    {
     "data": {
      "text/plain": [
       "array([0.93804972, 0.94438655, 0.96253382, 0.9116868 , 0.92293511])"
      ]
     },
     "execution_count": 95,
     "metadata": {},
     "output_type": "execute_result"
    }
   ],
   "source": [
    "cross_val_score(treemodel, X, y)"
   ]
  },
  {
   "cell_type": "code",
   "execution_count": 96,
   "id": "d5e059b0",
   "metadata": {},
   "outputs": [
    {
     "data": {
      "text/plain": [
       "0.941405378"
      ]
     },
     "execution_count": 96,
     "metadata": {},
     "output_type": "execute_result"
    }
   ],
   "source": [
    "np.mean([0.95024703, 0.94278707, 0.96110752, 0.91510236, 0.93778291])"
   ]
  },
  {
   "cell_type": "code",
   "execution_count": 97,
   "id": "9aa3606f",
   "metadata": {},
   "outputs": [],
   "source": [
    "treepredict=treemodel.predict(X)"
   ]
  },
  {
   "cell_type": "code",
   "execution_count": 98,
   "id": "6e6aa94e",
   "metadata": {},
   "outputs": [],
   "source": [
    "treeresid=y-treepredict"
   ]
  },
  {
   "cell_type": "code",
   "execution_count": 99,
   "id": "d7697ffe",
   "metadata": {},
   "outputs": [
    {
     "data": {
      "text/plain": [
       "118286.87481224751"
      ]
     },
     "execution_count": 99,
     "metadata": {},
     "output_type": "execute_result"
    }
   ],
   "source": [
    "np.sqrt(np.mean(treeresid**2))"
   ]
  },
  {
   "cell_type": "code",
   "execution_count": 100,
   "id": "31eae8f3",
   "metadata": {},
   "outputs": [],
   "source": [
    "from sklearn.tree import _tree\n",
    "def get_rules(tree, feature_names, class_names):\n",
    "    tree_ = tree.tree_\n",
    "    feature_name = [\n",
    "        feature_names[i] if i != _tree.TREE_UNDEFINED else \"undefined!\"\n",
    "        for i in tree_.feature\n",
    "    ]\n",
    "\n",
    "    paths = []\n",
    "    path = []\n",
    "\n",
    "    def recurse(node, path, paths):\n",
    "\n",
    "        if tree_.feature[node] != _tree.TREE_UNDEFINED:\n",
    "            name = feature_name[node]\n",
    "            threshold = tree_.threshold[node]\n",
    "            p1, p2 = list(path), list(path)\n",
    "            p1 += [f\"({name} <= {np.round(threshold, 3)})\"]\n",
    "            recurse(tree_.children_left[node], p1, paths)\n",
    "            p2 += [f\"({name} > {np.round(threshold, 3)})\"]\n",
    "            recurse(tree_.children_right[node], p2, paths)\n",
    "        else:\n",
    "            path += [(tree_.value[node], tree_.n_node_samples[node])]\n",
    "            paths += [path]\n",
    "\n",
    "    recurse(0, path, paths)\n",
    "\n",
    "    # sort by samples count\n",
    "    samples_count = [p[-1][1] for p in paths]\n",
    "    ii = list(np.argsort(samples_count))\n",
    "    paths = [paths[i] for i in reversed(ii)]\n",
    "\n",
    "    rules = []\n",
    "    for path in paths:\n",
    "        rule = \"if \"\n",
    "\n",
    "        for p in path[:-1]:\n",
    "            if rule != \"if \":\n",
    "                rule += \" and \"\n",
    "            rule += str(p)\n",
    "        rule += \" then \"\n",
    "        if class_names is None:\n",
    "            rule += \"response: \"+str(np.round(path[-1][0][0][0],3))\n",
    "        else:\n",
    "            classes = path[-1][0][0]\n",
    "            l = np.argmax(classes)\n",
    "            rule += f\"class: {class_names[l]} (proba: {np.round(100.0*classes[l]/np.sum(classes),2)}%)\"\n",
    "        rule += f\" | based on {path[-1][1]:,} samples\"\n",
    "        rules += [rule]\n",
    "\n",
    "    return rules"
   ]
  },
  {
   "cell_type": "code",
   "execution_count": 101,
   "id": "183fa545",
   "metadata": {},
   "outputs": [
    {
     "name": "stdout",
     "output_type": "stream",
     "text": [
      "if (max_power <= 172.915) and (max_power <= 147.97) and (age > 8.5) and (max_power <= 98.145) and (age <= 11.5) and (max_power > 73.4) and (seats_7.0 <= 0.5) and (mileage <= 23.3) then class: 450000 (proba: 100.0%) | based on 580 samples\n",
      "if (max_power <= 172.915) and (max_power <= 147.97) and (age <= 8.5) and (max_power <= 87.0) and (max_power > 69.505) and (age <= 5.5) and (engine <= 1223.5) and (mileage <= 22.92) then class: 450000 (proba: 100.0%) | based on 525 samples\n",
      "if (max_power <= 172.915) and (max_power <= 147.97) and (age > 8.5) and (max_power <= 98.145) and (age > 11.5) and (age <= 14.5) and (max_power > 62.55) and (companyname_BMW <= 0.5) then class: 450000 (proba: 100.0%) | based on 495 samples\n",
      "if (max_power <= 172.915) and (max_power <= 147.97) and (age > 8.5) and (max_power <= 98.145) and (age <= 11.5) and (max_power <= 73.4) and (engine <= 2223.5) and (engine > 996.5) then class: 450000 (proba: 100.0%) | based on 426 samples\n",
      "if (max_power <= 172.915) and (max_power <= 147.97) and (age <= 8.5) and (max_power > 87.0) and (max_power <= 117.45) and (age > 5.5) and (companyname_Toyota <= 0.5) and (age > 6.5) then class: 450000 (proba: 100.0%) | based on 360 samples\n",
      "if (max_power <= 172.915) and (max_power <= 147.97) and (age <= 8.5) and (max_power > 87.0) and (max_power <= 117.45) and (age <= 5.5) and (companyname_Kia <= 0.5) and (age <= 4.5) then class: 450000 (proba: 100.0%) | based on 356 samples\n",
      "if (max_power <= 172.915) and (max_power <= 147.97) and (age <= 8.5) and (max_power <= 87.0) and (max_power > 69.505) and (age > 5.5) and (engine <= 1223.5) and (engine <= 1197.5) then class: 450000 (proba: 100.0%) | based on 298 samples\n",
      "if (max_power <= 172.915) and (max_power <= 147.97) and (age > 8.5) and (max_power <= 98.145) and (age > 11.5) and (age > 14.5) and (max_power > 62.05) and (companyname_Mahindra <= 0.5) then class: 450000 (proba: 100.0%) | based on 287 samples\n",
      "if (max_power <= 172.915) and (max_power <= 147.97) and (age <= 8.5) and (max_power > 87.0) and (max_power <= 117.45) and (age <= 5.5) and (companyname_Kia <= 0.5) and (age > 4.5) then class: 450000 (proba: 100.0%) | based on 287 samples\n",
      "if (max_power <= 172.915) and (max_power <= 147.97) and (age <= 8.5) and (max_power > 87.0) and (max_power <= 117.45) and (age > 5.5) and (companyname_Toyota <= 0.5) and (age <= 6.5) then class: 450000 (proba: 100.0%) | based on 276 samples\n",
      "if (max_power <= 172.915) and (max_power <= 147.97) and (age <= 8.5) and (max_power <= 87.0) and (max_power > 69.505) and (age > 5.5) and (engine > 1223.5) and (companyname_Tata <= 0.5) then class: 450000 (proba: 100.0%) | based on 263 samples\n",
      "if (max_power <= 172.915) and (max_power <= 147.97) and (age <= 8.5) and (max_power <= 87.0) and (max_power <= 69.505) and (engine <= 1992.0) and (engine > 996.5) and (age <= 5.5) then class: 450000 (proba: 100.0%) | based on 253 samples\n",
      "if (max_power <= 172.915) and (max_power <= 147.97) and (age <= 8.5) and (max_power <= 87.0) and (max_power <= 69.505) and (engine <= 1992.0) and (engine > 996.5) and (age > 5.5) then class: 450000 (proba: 100.0%) | based on 252 samples\n",
      "if (max_power <= 172.915) and (max_power <= 147.97) and (age <= 8.5) and (max_power <= 87.0) and (max_power > 69.505) and (age <= 5.5) and (engine > 1223.5) and (companyname_BMW <= 0.5) then class: 450000 (proba: 100.0%) | based on 225 samples\n",
      "if (max_power <= 172.915) and (max_power <= 147.97) and (age > 8.5) and (max_power > 98.145) and (age <= 10.5) and (companyname_Toyota <= 0.5) and (max_power <= 139.05) and (mileage > 5.785) then class: 450000 (proba: 100.0%) | based on 218 samples\n",
      "if (max_power <= 172.915) and (max_power <= 147.97) and (age <= 8.5) and (max_power <= 87.0) and (max_power <= 69.505) and (engine <= 1992.0) and (engine <= 996.5) and (age <= 6.5) then class: 450000 (proba: 100.0%) | based on 216 samples\n",
      "if (max_power <= 172.915) and (max_power <= 147.97) and (age > 8.5) and (max_power > 98.145) and (age > 10.5) and (engine <= 2424.0) and (age <= 13.5) and (companyname_Mahindra <= 0.5) then class: 450000 (proba: 100.0%) | based on 184 samples\n",
      "if (max_power <= 172.915) and (max_power <= 147.97) and (age > 8.5) and (max_power <= 98.145) and (age <= 11.5) and (max_power <= 73.4) and (engine <= 2223.5) and (engine <= 996.5) then class: 450000 (proba: 100.0%) | based on 175 samples\n",
      "if (max_power <= 172.915) and (max_power <= 147.97) and (age <= 8.5) and (max_power > 87.0) and (max_power > 117.45) and (age > 6.5) and (companyname_Tata <= 0.5) and (max_power <= 141.5) then class: 450000 (proba: 100.0%) | based on 155 samples\n",
      "if (max_power <= 172.915) and (max_power <= 147.97) and (age <= 8.5) and (max_power > 87.0) and (max_power > 117.45) and (age <= 6.5) and (max_power <= 130.16) and (age > 2.5) then class: 450000 (proba: 100.0%) | based on 149 samples\n",
      "if (max_power <= 172.915) and (max_power <= 147.97) and (age > 8.5) and (max_power <= 98.145) and (age > 11.5) and (age <= 14.5) and (max_power <= 62.55) and (companyname_Tata <= 0.5) then class: 450000 (proba: 100.0%) | based on 132 samples\n",
      "if (max_power <= 172.915) and (max_power <= 147.97) and (age > 8.5) and (max_power <= 98.145) and (age > 11.5) and (age > 14.5) and (max_power <= 62.05) and (max_power > 41.65) then class: 450000 (proba: 100.0%) | based on 122 samples\n",
      "if (max_power <= 172.915) and (max_power <= 147.97) and (age <= 8.5) and (max_power <= 87.0) and (max_power > 69.505) and (age <= 5.5) and (engine <= 1223.5) and (mileage > 22.92) then class: 450000 (proba: 100.0%) | based on 121 samples\n",
      "if (max_power <= 172.915) and (max_power <= 147.97) and (age <= 8.5) and (max_power <= 87.0) and (max_power <= 69.505) and (engine <= 1992.0) and (engine <= 996.5) and (age > 6.5) then class: 450000 (proba: 100.0%) | based on 110 samples\n",
      "if (max_power <= 172.915) and (max_power <= 147.97) and (age <= 8.5) and (max_power > 87.0) and (max_power > 117.45) and (age <= 6.5) and (max_power > 130.16) and (mileage <= 17.75) then class: 450000 (proba: 100.0%) | based on 99 samples\n",
      "if (max_power <= 172.915) and (max_power <= 147.97) and (age <= 8.5) and (max_power <= 87.0) and (max_power > 69.505) and (age > 5.5) and (engine <= 1223.5) and (engine > 1197.5) then class: 450000 (proba: 100.0%) | based on 77 samples\n",
      "if (max_power <= 172.915) and (max_power <= 147.97) and (age > 8.5) and (max_power <= 98.145) and (age > 11.5) and (age > 14.5) and (max_power <= 62.05) and (max_power <= 41.65) then class: 450000 (proba: 100.0%) | based on 77 samples\n",
      "if (max_power > 172.915) and (age <= 4.5) and (max_power > 185.87) and (engine > 1980.0) and (companyname_Ford <= 0.5) and (mileage <= 22.425) and (mileage <= 17.605) and (age > 2.5) then class: 450000 (proba: 100.0%) | based on 70 samples\n",
      "if (max_power <= 172.915) and (max_power <= 147.97) and (age > 8.5) and (max_power > 98.145) and (age > 10.5) and (engine <= 2424.0) and (age > 13.5) and (engine <= 1797.0) then class: 450000 (proba: 100.0%) | based on 55 samples\n",
      "if (max_power <= 172.915) and (max_power <= 147.97) and (age > 8.5) and (max_power > 98.145) and (age <= 10.5) and (companyname_Toyota > 0.5) and (seats_8.0 <= 0.5) and (km_driven > 63864.0) then class: 450000 (proba: 100.0%) | based on 51 samples\n",
      "if (max_power <= 172.915) and (max_power <= 147.97) and (age > 8.5) and (max_power <= 98.145) and (age <= 11.5) and (max_power > 73.4) and (seats_7.0 <= 0.5) and (mileage > 23.3) then class: 450000 (proba: 100.0%) | based on 48 samples\n",
      "if (max_power <= 172.915) and (max_power <= 147.97) and (age <= 8.5) and (max_power > 87.0) and (max_power <= 117.45) and (age > 5.5) and (companyname_Toyota > 0.5) and (fuel_Diesel > 0.5) then class: 450000 (proba: 100.0%) | based on 48 samples\n",
      "if (max_power > 172.915) and (age > 4.5) and (age <= 6.5) and (max_power <= 214.0) and (mileage <= 18.79) and (fuel_Petrol <= 0.5) and (owner_Second Owner <= 0.5) and (companyname_Volvo <= 0.5) then class: 450000 (proba: 100.0%) | based on 47 samples\n",
      "if (max_power <= 172.915) and (max_power <= 147.97) and (age > 8.5) and (max_power <= 98.145) and (age <= 11.5) and (max_power <= 73.4) and (engine > 2223.5) and (age <= 10.5) then class: 450000 (proba: 100.0%) | based on 46 samples\n",
      "if (max_power <= 172.915) and (max_power > 147.97) and (km_driven > 21500.0) and (age <= 8.5) and (engine <= 2188.5) and (age <= 5.5) and (companyname_Mercedes-Benz <= 0.5) and (companyname_Skoda <= 0.5) then class: 450000 (proba: 100.0%) | based on 46 samples\n",
      "if (max_power <= 172.915) and (max_power <= 147.97) and (age > 8.5) and (max_power > 98.145) and (age > 10.5) and (engine <= 2424.0) and (age > 13.5) and (engine > 1797.0) then class: 450000 (proba: 100.0%) | based on 46 samples\n",
      "if (max_power <= 172.915) and (max_power <= 147.97) and (age > 8.5) and (max_power > 98.145) and (age > 10.5) and (engine > 2424.0) and (companyname_Mahindra <= 0.5) and (age <= 13.5) then class: 450000 (proba: 100.0%) | based on 45 samples\n",
      "if (max_power <= 172.915) and (max_power <= 147.97) and (age > 8.5) and (max_power <= 98.145) and (age <= 11.5) and (max_power > 73.4) and (seats_7.0 > 0.5) and (companyname_Maruti > 0.5) then class: 450000 (proba: 100.0%) | based on 42 samples\n",
      "if (max_power <= 172.915) and (max_power > 147.97) and (km_driven > 21500.0) and (age <= 8.5) and (engine > 2188.5) and (km_driven <= 72544.5) and (age <= 7.5) and (mileage > 11.975) then class: 450000 (proba: 100.0%) | based on 39 samples\n",
      "if (max_power <= 172.915) and (max_power <= 147.97) and (age <= 8.5) and (max_power > 87.0) and (max_power > 117.45) and (age > 6.5) and (companyname_Tata > 0.5) and (km_driven > 65000.0) then class: 450000 (proba: 100.0%) | based on 38 samples\n",
      "if (max_power <= 172.915) and (max_power <= 147.97) and (age <= 8.5) and (max_power <= 87.0) and (max_power <= 69.505) and (engine > 1992.0) and (age > 6.5) and (km_driven <= 124000.0) then class: 450000 (proba: 100.0%) | based on 37 samples\n",
      "if (max_power <= 172.915) and (max_power <= 147.97) and (age > 8.5) and (max_power > 98.145) and (age <= 10.5) and (companyname_Toyota <= 0.5) and (max_power > 139.05) and (km_driven > 49850.0) then class: 450000 (proba: 100.0%) | based on 36 samples\n",
      "if (max_power > 172.915) and (age <= 4.5) and (max_power > 185.87) and (engine > 1980.0) and (companyname_Ford <= 0.5) and (mileage <= 22.425) and (mileage > 17.605) and (age <= 3.5) then class: 450000 (proba: 100.0%) | based on 36 samples\n",
      "if (max_power > 172.915) and (age > 4.5) and (age <= 6.5) and (max_power <= 214.0) and (mileage > 18.79) and (max_power <= 189.0) and (engine > 1997.0) then class: 450000 (proba: 100.0%) | based on 34 samples\n",
      "if (max_power <= 172.915) and (max_power <= 147.97) and (age > 8.5) and (max_power > 98.145) and (age > 10.5) and (engine <= 2424.0) and (age <= 13.5) and (companyname_Mahindra > 0.5) then class: 450000 (proba: 100.0%) | based on 33 samples\n",
      "if (max_power <= 172.915) and (max_power <= 147.97) and (age > 8.5) and (max_power > 98.145) and (age > 10.5) and (engine > 2424.0) and (companyname_Mahindra <= 0.5) and (age > 13.5) then class: 450000 (proba: 100.0%) | based on 33 samples\n",
      "if (max_power > 172.915) and (age <= 4.5) and (max_power > 185.87) and (engine <= 1980.0) and (mileage > 16.135) and (max_power > 187.87) and (km_driven > 18500.0) and (mileage > 17.505) then class: 450000 (proba: 100.0%) | based on 32 samples\n",
      "if (max_power <= 172.915) and (max_power <= 147.97) and (age > 8.5) and (max_power <= 98.145) and (age > 11.5) and (age > 14.5) and (max_power > 62.05) and (companyname_Mahindra > 0.5) then class: 450000 (proba: 100.0%) | based on 31 samples\n",
      "if (max_power <= 172.915) and (max_power > 147.97) and (km_driven <= 21500.0) and (companyname_Land <= 0.5) and (companyname_Mercedes-Benz <= 0.5) and (max_power <= 151.435) and (seats_7.0 <= 0.5) then class: 450000 (proba: 100.0%) | based on 29 samples\n",
      "if (max_power <= 172.915) and (max_power <= 147.97) and (age <= 8.5) and (max_power <= 87.0) and (max_power <= 69.505) and (engine > 1992.0) and (age <= 6.5) and (km_driven <= 115000.0) then class: 450000 (proba: 100.0%) | based on 27 samples\n",
      "if (max_power <= 172.915) and (max_power <= 147.97) and (age > 8.5) and (max_power <= 98.145) and (age <= 11.5) and (max_power <= 73.4) and (engine > 2223.5) and (age > 10.5) then class: 450000 (proba: 100.0%) | based on 24 samples\n",
      "if (max_power <= 172.915) and (max_power <= 147.97) and (age > 8.5) and (max_power > 98.145) and (age > 10.5) and (engine > 2424.0) and (companyname_Mahindra > 0.5) and (owner_Third Owner <= 0.5) then class: 450000 (proba: 100.0%) | based on 23 samples\n",
      "if (max_power <= 172.915) and (max_power <= 147.97) and (age <= 8.5) and (max_power <= 87.0) and (max_power > 69.505) and (age > 5.5) and (engine > 1223.5) and (companyname_Tata > 0.5) then class: 450000 (proba: 100.0%) | based on 22 samples\n",
      "if (max_power <= 172.915) and (max_power > 147.97) and (km_driven > 21500.0) and (age <= 8.5) and (engine > 2188.5) and (km_driven > 72544.5) and (companyname_Ford <= 0.5) and (companyname_Isuzu <= 0.5) then class: 450000 (proba: 100.0%) | based on 17 samples\n",
      "if (max_power <= 172.915) and (max_power <= 147.97) and (age > 8.5) and (max_power > 98.145) and (age <= 10.5) and (companyname_Toyota > 0.5) and (seats_8.0 > 0.5) and (km_driven <= 148000.0) then class: 450000 (proba: 100.0%) | based on 16 samples\n",
      "if (max_power <= 172.915) and (max_power <= 147.97) and (age > 8.5) and (max_power <= 98.145) and (age > 11.5) and (age <= 14.5) and (max_power <= 62.55) and (companyname_Tata > 0.5) then class: 450000 (proba: 100.0%) | based on 16 samples\n",
      "if (max_power > 172.915) and (age > 4.5) and (age > 6.5) and (age > 9.5) and (fuel_Petrol <= 0.5) and (age <= 12.5) and (engine <= 2599.0) and (seats_5.0 > 0.5) then class: 450000 (proba: 100.0%) | based on 15 samples\n",
      "if (max_power <= 172.915) and (max_power > 147.97) and (km_driven > 21500.0) and (age <= 8.5) and (engine > 2188.5) and (km_driven <= 72544.5) and (age <= 7.5) and (mileage <= 11.975) then class: 450000 (proba: 100.0%) | based on 14 samples\n",
      "if (max_power <= 172.915) and (max_power > 147.97) and (km_driven > 21500.0) and (age > 8.5) and (fuel_Petrol <= 0.5) and (mileage > 10.7) and (owner_First Owner <= 0.5) and (companyname_Chevrolet <= 0.5) then class: 450000 (proba: 100.0%) | based on 13 samples\n",
      "if (max_power <= 172.915) and (max_power <= 147.97) and (age > 8.5) and (max_power <= 98.145) and (age <= 11.5) and (max_power > 73.4) and (seats_7.0 > 0.5) and (companyname_Maruti <= 0.5) then class: 450000 (proba: 100.0%) | based on 12 samples\n",
      "if (max_power <= 172.915) and (max_power > 147.97) and (km_driven <= 21500.0) and (companyname_Land <= 0.5) and (companyname_Mercedes-Benz <= 0.5) and (max_power > 151.435) and (km_driven > 7500.0) and (km_driven <= 18445.0) then class: 450000 (proba: 100.0%) | based on 10 samples\n",
      "if (max_power <= 172.915) and (max_power > 147.97) and (km_driven > 21500.0) and (age > 8.5) and (fuel_Petrol <= 0.5) and (mileage > 10.7) and (owner_First Owner > 0.5) and (max_power > 164.8) then class: 450000 (proba: 100.0%) | based on 10 samples\n",
      "if (max_power > 172.915) and (age > 4.5) and (age > 6.5) and (age <= 9.5) and (max_power <= 202.15) and (engine <= 2189.0) and (km_driven <= 93750.0) and (companyname_Jaguar <= 0.5) then class: 450000 (proba: 100.0%) | based on 9 samples\n",
      "if (max_power <= 172.915) and (max_power <= 147.97) and (age <= 8.5) and (max_power > 87.0) and (max_power > 117.45) and (age <= 6.5) and (max_power > 130.16) and (mileage > 17.75) then class: 450000 (proba: 100.0%) | based on 9 samples\n",
      "if (max_power > 172.915) and (age > 4.5) and (age > 6.5) and (age <= 9.5) and (max_power <= 202.15) and (engine > 2189.0) and (km_driven > 39500.0) and (km_driven <= 131500.0) then class: 450000 (proba: 100.0%) | based on 8 samples\n",
      "if (max_power <= 172.915) and (max_power > 147.97) and (km_driven <= 21500.0) and (companyname_Land <= 0.5) and (companyname_Mercedes-Benz <= 0.5) and (max_power > 151.435) and (km_driven > 7500.0) and (km_driven > 18445.0) then class: 450000 (proba: 100.0%) | based on 7 samples\n",
      "if (max_power <= 172.915) and (max_power <= 147.97) and (age <= 8.5) and (max_power <= 87.0) and (max_power <= 69.505) and (engine > 1992.0) and (age <= 6.5) and (km_driven > 115000.0) then class: 450000 (proba: 100.0%) | based on 7 samples\n",
      "if (max_power <= 172.915) and (max_power <= 147.97) and (age > 8.5) and (max_power > 98.145) and (age <= 10.5) and (companyname_Toyota > 0.5) and (seats_8.0 > 0.5) and (km_driven > 148000.0) then class: 450000 (proba: 100.0%) | based on 7 samples\n",
      "if (max_power > 172.915) and (age > 4.5) and (age > 6.5) and (age <= 9.5) and (max_power <= 202.15) and (engine > 2189.0) and (km_driven > 39500.0) and (km_driven > 131500.0) then class: 450000 (proba: 100.0%) | based on 7 samples\n",
      "if (max_power > 172.915) and (age > 4.5) and (age <= 6.5) and (max_power > 214.0) and (seats_4.0 <= 0.5) and (seller_type_Dealer <= 0.5) and (fuel_Diesel <= 0.5) then class: 450000 (proba: 100.0%) | based on 6 samples\n",
      "if (max_power > 172.915) and (age <= 4.5) and (max_power > 185.87) and (engine <= 1980.0) and (mileage > 16.135) and (max_power > 187.87) and (km_driven > 18500.0) and (mileage <= 17.505) then class: 450000 (proba: 100.0%) | based on 6 samples\n",
      "if (max_power > 172.915) and (age > 4.5) and (age <= 6.5) and (max_power <= 214.0) and (mileage <= 18.79) and (fuel_Petrol > 0.5) and (km_driven > 31500.0) and (mileage <= 15.52) then class: 450000 (proba: 100.0%) | based on 6 samples\n",
      "if (max_power <= 172.915) and (max_power <= 147.97) and (age <= 8.5) and (max_power <= 87.0) and (max_power <= 69.505) and (engine > 1992.0) and (age > 6.5) and (km_driven > 124000.0) then class: 450000 (proba: 100.0%) | based on 5 samples\n",
      "if (max_power <= 172.915) and (max_power <= 147.97) and (age <= 8.5) and (max_power > 87.0) and (max_power > 117.45) and (age > 6.5) and (companyname_Tata > 0.5) and (km_driven <= 65000.0) then class: 450000 (proba: 100.0%) | based on 5 samples\n",
      "if (max_power <= 172.915) and (max_power > 147.97) and (km_driven > 21500.0) and (age > 8.5) and (fuel_Petrol > 0.5) and (age <= 13.5) and (mileage > 10.95) and (km_driven > 57500.0) then class: 450000 (proba: 100.0%) | based on 5 samples\n",
      "if (max_power <= 172.915) and (max_power <= 147.97) and (age > 8.5) and (max_power > 98.145) and (age > 10.5) and (engine > 2424.0) and (companyname_Mahindra > 0.5) and (owner_Third Owner > 0.5) then class: 450000 (proba: 100.0%) | based on 4 samples\n",
      "if (max_power <= 172.915) and (max_power <= 147.97) and (age > 8.5) and (max_power > 98.145) and (age <= 10.5) and (companyname_Toyota <= 0.5) and (max_power > 139.05) and (km_driven <= 49850.0) then class: 450000 (proba: 100.0%) | based on 4 samples\n",
      "if (max_power > 172.915) and (age > 4.5) and (age > 6.5) and (age > 9.5) and (fuel_Petrol <= 0.5) and (age > 12.5) and (age <= 14.5) and (max_power > 184.37) then class: 450000 (proba: 100.0%) | based on 4 samples\n",
      "if (max_power <= 172.915) and (max_power <= 147.97) and (age > 8.5) and (max_power > 98.145) and (age <= 10.5) and (companyname_Toyota > 0.5) and (seats_8.0 <= 0.5) and (km_driven <= 63864.0) then class: 450000 (proba: 100.0%) | based on 4 samples\n",
      "if (max_power > 172.915) and (age <= 4.5) and (max_power <= 185.87) and (engine > 1993.0) and (max_power <= 174.535) and (mileage > 13.57) and (km_driven > 48000.0) then class: 450000 (proba: 100.0%) | based on 4 samples\n",
      "if (max_power <= 172.915) and (max_power > 147.97) and (km_driven <= 21500.0) and (companyname_Land > 0.5) then class: 450000 (proba: 100.0%) | based on 4 samples\n",
      "if (max_power > 172.915) and (age > 4.5) and (age <= 6.5) and (max_power <= 214.0) and (mileage <= 18.79) and (fuel_Petrol > 0.5) and (km_driven <= 31500.0) and (engine > 1894.5) then class: 450000 (proba: 100.0%) | based on 4 samples\n",
      "if (max_power > 172.915) and (age > 4.5) and (age > 6.5) and (age > 9.5) and (fuel_Petrol <= 0.5) and (age <= 12.5) and (engine <= 2599.0) and (seats_5.0 <= 0.5) then class: 450000 (proba: 100.0%) | based on 4 samples\n",
      "if (max_power <= 172.915) and (max_power > 147.97) and (km_driven > 21500.0) and (age > 8.5) and (fuel_Petrol <= 0.5) and (mileage > 10.7) and (owner_First Owner > 0.5) and (max_power <= 164.8) then class: 450000 (proba: 100.0%) | based on 4 samples\n",
      "if (max_power <= 172.915) and (max_power > 147.97) and (km_driven > 21500.0) and (age <= 8.5) and (engine <= 2188.5) and (age > 5.5) and (seller_type_Dealer <= 0.5) and (km_driven <= 111300.0) then class: 450000 (proba: 100.0%) | based on 3 samples\n",
      "if (max_power <= 172.915) and (max_power <= 147.97) and (age <= 8.5) and (max_power > 87.0) and (max_power <= 117.45) and (age <= 5.5) and (companyname_Kia > 0.5) and (mileage <= 19.3) then class: 450000 (proba: 100.0%) | based on 3 samples\n",
      "if (max_power > 172.915) and (age > 4.5) and (age > 6.5) and (age <= 9.5) and (max_power <= 202.15) and (engine <= 2189.0) and (km_driven <= 93750.0) and (companyname_Jaguar > 0.5) then class: 450000 (proba: 100.0%) | based on 3 samples\n",
      "if (max_power > 172.915) and (age > 4.5) and (age > 6.5) and (age <= 9.5) and (max_power > 202.15) and (mileage <= 12.645) and (age <= 8.5) and (mileage > 11.52) then class: 450000 (proba: 100.0%) | based on 3 samples\n",
      "if (max_power <= 172.915) and (max_power <= 147.97) and (age <= 8.5) and (max_power > 87.0) and (max_power > 117.45) and (age > 6.5) and (companyname_Tata <= 0.5) and (max_power > 141.5) then class: 450000 (proba: 100.0%) | based on 3 samples\n",
      "if (max_power > 172.915) and (age > 4.5) and (age > 6.5) and (age > 9.5) and (fuel_Petrol > 0.5) and (companyname_Mercedes-Benz <= 0.5) and (age <= 11.0) and (owner_First Owner <= 0.5) then class: 450000 (proba: 100.0%) | based on 3 samples\n",
      "if (max_power <= 172.915) and (max_power > 147.97) and (km_driven > 21500.0) and (age > 8.5) and (fuel_Petrol <= 0.5) and (mileage > 10.7) and (owner_First Owner <= 0.5) and (companyname_Chevrolet > 0.5) then class: 450000 (proba: 100.0%) | based on 3 samples\n",
      "if (max_power > 172.915) and (age > 4.5) and (age <= 6.5) and (max_power > 214.0) and (seats_4.0 <= 0.5) and (seller_type_Dealer > 0.5) and (km_driven <= 58500.0) and (km_driven <= 42000.0) then class: 450000 (proba: 100.0%) | based on 3 samples\n",
      "if (max_power > 172.915) and (age > 4.5) and (age <= 6.5) and (max_power <= 214.0) and (mileage > 18.79) and (max_power <= 189.0) and (engine <= 1997.0) then class: 450000 (proba: 100.0%) | based on 3 samples\n",
      "if (max_power <= 172.915) and (max_power <= 147.97) and (age <= 8.5) and (max_power > 87.0) and (max_power > 117.45) and (age <= 6.5) and (max_power <= 130.16) and (age <= 2.5) then class: 450000 (proba: 100.0%) | based on 3 samples\n",
      "if (max_power > 172.915) and (age > 4.5) and (age > 6.5) and (age <= 9.5) and (max_power > 202.15) and (mileage > 12.645) and (age > 7.5) and (km_driven <= 68065.5) then class: 450000 (proba: 100.0%) | based on 3 samples\n",
      "if (max_power > 172.915) and (age > 4.5) and (age > 6.5) and (age <= 9.5) and (max_power <= 202.15) and (engine <= 2189.0) and (km_driven > 93750.0) and (engine > 1981.5) then class: 450000 (proba: 100.0%) | based on 2 samples\n",
      "if (max_power > 172.915) and (age > 4.5) and (age > 6.5) and (age <= 9.5) and (max_power <= 202.15) and (engine <= 2189.0) and (km_driven > 93750.0) and (engine <= 1981.5) then class: 450000 (proba: 100.0%) | based on 2 samples\n",
      "if (max_power > 172.915) and (age > 4.5) and (age <= 6.5) and (max_power <= 214.0) and (mileage > 18.79) and (max_power > 189.0) and (km_driven > 21831.5) and (age > 5.5) then class: 450000 (proba: 100.0%) | based on 2 samples\n",
      "if (max_power <= 172.915) and (max_power > 147.97) and (km_driven <= 21500.0) and (companyname_Land <= 0.5) and (companyname_Mercedes-Benz <= 0.5) and (max_power > 151.435) and (km_driven <= 7500.0) then class: 450000 (proba: 100.0%) | based on 2 samples\n",
      "if (max_power > 172.915) and (age <= 4.5) and (max_power > 185.87) and (engine > 1980.0) and (companyname_Ford > 0.5) and (km_driven <= 23500.0) then class: 450000 (proba: 100.0%) | based on 2 samples\n",
      "if (max_power > 172.915) and (age > 4.5) and (age > 6.5) and (age <= 9.5) and (max_power <= 202.15) and (engine > 2189.0) and (km_driven <= 39500.0) then class: 450000 (proba: 100.0%) | based on 2 samples\n",
      "if (max_power > 172.915) and (age > 4.5) and (age <= 6.5) and (max_power <= 214.0) and (mileage <= 18.79) and (fuel_Petrol <= 0.5) and (owner_Second Owner > 0.5) and (companyname_Chevrolet <= 0.5) then class: 450000 (proba: 100.0%) | based on 2 samples\n",
      "if (max_power > 172.915) and (age > 4.5) and (age <= 6.5) and (max_power <= 214.0) and (mileage > 18.79) and (max_power > 189.0) and (km_driven > 21831.5) and (age <= 5.5) then class: 450000 (proba: 100.0%) | based on 2 samples\n",
      "if (max_power <= 172.915) and (max_power > 147.97) and (km_driven <= 21500.0) and (companyname_Land <= 0.5) and (companyname_Mercedes-Benz > 0.5) then class: 450000 (proba: 100.0%) | based on 2 samples\n",
      "if (max_power > 172.915) and (age > 4.5) and (age > 6.5) and (age <= 9.5) and (max_power > 202.15) and (mileage > 12.645) and (age <= 7.5) and (owner_Second Owner > 0.5) then class: 450000 (proba: 100.0%) | based on 2 samples\n",
      "if (max_power > 172.915) and (age <= 4.5) and (max_power > 185.87) and (engine > 1980.0) and (companyname_Ford <= 0.5) and (mileage > 22.425) and (km_driven > 23300.0) then class: 450000 (proba: 100.0%) | based on 2 samples\n",
      "if (max_power <= 172.915) and (max_power > 147.97) and (km_driven > 21500.0) and (age > 8.5) and (fuel_Petrol > 0.5) and (age > 13.5) and (companyname_Honda <= 0.5) and (companyname_Toyota <= 0.5) then class: 450000 (proba: 100.0%) | based on 2 samples\n",
      "if (max_power > 172.915) and (age > 4.5) and (age > 6.5) and (age > 9.5) and (fuel_Petrol > 0.5) and (companyname_Mercedes-Benz > 0.5) and (age <= 14.0) and (owner_Second Owner > 0.5) then class: 450000 (proba: 100.0%) | based on 2 samples\n",
      "if (max_power > 172.915) and (age > 4.5) and (age > 6.5) and (age > 9.5) and (fuel_Petrol > 0.5) and (companyname_Mercedes-Benz <= 0.5) and (age > 11.0) and (engine > 2675.5) then class: 450000 (proba: 100.0%) | based on 2 samples\n",
      "if (max_power > 172.915) and (age > 4.5) and (age > 6.5) and (age > 9.5) and (fuel_Petrol > 0.5) and (companyname_Mercedes-Benz <= 0.5) and (age > 11.0) and (engine <= 2675.5) then class: 450000 (proba: 100.0%) | based on 2 samples\n",
      "if (max_power > 172.915) and (age <= 4.5) and (max_power <= 185.87) and (engine > 1993.0) and (max_power > 174.535) and (km_driven <= 18500.0) then class: 450000 (proba: 100.0%) | based on 2 samples\n",
      "if (max_power > 172.915) and (age <= 4.5) and (max_power <= 185.87) and (engine > 1993.0) and (max_power <= 174.535) and (mileage > 13.57) and (km_driven <= 48000.0) and (mileage <= 14.64) then class: 450000 (proba: 100.0%) | based on 2 samples\n",
      "if (max_power > 172.915) and (age > 4.5) and (age > 6.5) and (age > 9.5) and (fuel_Petrol <= 0.5) and (age > 12.5) and (age > 14.5) and (max_power > 189.75) then class: 450000 (proba: 100.0%) | based on 2 samples\n",
      "if (max_power > 172.915) and (age <= 4.5) and (max_power <= 185.87) and (engine <= 1993.0) and (engine > 1883.0) and (seller_type_Individual <= 0.5) and (engine > 1979.5) then class: 450000 (proba: 100.0%) | based on 2 samples\n",
      "if (max_power > 172.915) and (age <= 4.5) and (max_power <= 185.87) and (engine <= 1993.0) and (engine <= 1883.0) then class: 450000 (proba: 100.0%) | based on 2 samples\n",
      "if (max_power <= 172.915) and (max_power > 147.97) and (km_driven > 21500.0) and (age > 8.5) and (fuel_Petrol > 0.5) and (age > 13.5) and (companyname_Honda > 0.5) and (transmission_Manual > 0.5) then class: 450000 (proba: 100.0%) | based on 2 samples\n",
      "if (max_power > 172.915) and (age > 4.5) and (age > 6.5) and (age <= 9.5) and (max_power > 202.15) and (mileage <= 12.645) and (age > 8.5) and (seller_type_Dealer > 0.5) then class: 450000 (proba: 100.0%) | based on 2 samples\n",
      "if (max_power > 172.915) and (age > 4.5) and (age > 6.5) and (age > 9.5) and (fuel_Petrol <= 0.5) and (age > 12.5) and (age <= 14.5) and (max_power <= 184.37) then class: 450000 (proba: 100.0%) | based on 2 samples\n",
      "if (max_power <= 172.915) and (max_power > 147.97) and (km_driven > 21500.0) and (age > 8.5) and (fuel_Petrol > 0.5) and (age > 13.5) and (companyname_Honda > 0.5) and (transmission_Manual <= 0.5) then class: 450000 (proba: 100.0%) | based on 2 samples\n",
      "if (max_power <= 172.915) and (max_power > 147.97) and (km_driven > 21500.0) and (age > 8.5) and (fuel_Petrol > 0.5) and (age <= 13.5) and (mileage > 10.95) and (km_driven <= 57500.0) then class: 450000 (proba: 100.0%) | based on 2 samples\n",
      "if (max_power > 172.915) and (age > 4.5) and (age > 6.5) and (age <= 9.5) and (max_power > 202.15) and (mileage > 12.645) and (age > 7.5) and (km_driven > 68065.5) then class: 450000 (proba: 100.0%) | based on 2 samples\n",
      "if (max_power <= 172.915) and (max_power <= 147.97) and (age <= 8.5) and (max_power > 87.0) and (max_power <= 117.45) and (age > 5.5) and (companyname_Toyota > 0.5) and (fuel_Diesel <= 0.5) then class: 450000 (proba: 100.0%) | based on 2 samples\n",
      "if (max_power > 172.915) and (age <= 4.5) and (max_power > 185.87) and (engine > 1980.0) and (companyname_Ford <= 0.5) and (mileage > 22.425) and (km_driven <= 23300.0) and (km_driven <= 13550.0) then class: 450000 (proba: 100.0%) | based on 2 samples\n",
      "if (max_power > 172.915) and (age <= 4.5) and (max_power > 185.87) and (engine > 1980.0) and (companyname_Ford <= 0.5) and (mileage <= 22.425) and (mileage > 17.605) and (age > 3.5) then class: 450000 (proba: 100.0%) | based on 2 samples\n",
      "if (max_power <= 172.915) and (max_power > 147.97) and (km_driven > 21500.0) and (age > 8.5) and (fuel_Petrol <= 0.5) and (mileage <= 10.7) and (age > 10.0) and (max_power <= 167.5) then class: 450000 (proba: 100.0%) | based on 2 samples\n",
      "if (max_power > 172.915) and (age > 4.5) and (age > 6.5) and (age > 9.5) and (fuel_Petrol <= 0.5) and (age <= 12.5) and (engine > 2599.0) and (engine <= 2980.0) then class: 450000 (proba: 100.0%) | based on 2 samples\n",
      "if (max_power > 172.915) and (age > 4.5) and (age > 6.5) and (age > 9.5) and (fuel_Petrol > 0.5) and (companyname_Mercedes-Benz > 0.5) and (age > 14.0) and (transmission_Manual <= 0.5) then class: 450000 (proba: 100.0%) | based on 2 samples\n",
      "if (max_power > 172.915) and (age > 4.5) and (age > 6.5) and (age <= 9.5) and (max_power > 202.15) and (mileage <= 12.645) and (age <= 8.5) and (mileage <= 11.52) then class: 450000 (proba: 100.0%) | based on 1 samples\n",
      "if (max_power <= 172.915) and (max_power <= 147.97) and (age <= 8.5) and (max_power <= 87.0) and (max_power > 69.505) and (age <= 5.5) and (engine > 1223.5) and (companyname_BMW > 0.5) then class: 450000 (proba: 100.0%) | based on 1 samples\n",
      "if (max_power > 172.915) and (age > 4.5) and (age > 6.5) and (age > 9.5) and (fuel_Petrol <= 0.5) and (age > 12.5) and (age > 14.5) and (max_power <= 189.75) then class: 450000 (proba: 100.0%) | based on 1 samples\n",
      "if (max_power > 172.915) and (age > 4.5) and (age > 6.5) and (age > 9.5) and (fuel_Petrol <= 0.5) and (age <= 12.5) and (engine > 2599.0) and (engine > 2980.0) then class: 450000 (proba: 100.0%) | based on 1 samples\n",
      "if (max_power <= 172.915) and (max_power <= 147.97) and (age <= 8.5) and (max_power > 87.0) and (max_power <= 117.45) and (age <= 5.5) and (companyname_Kia > 0.5) and (mileage > 19.3) then class: 450000 (proba: 100.0%) | based on 1 samples\n",
      "if (max_power > 172.915) and (age > 4.5) and (age > 6.5) and (age <= 9.5) and (max_power > 202.15) and (mileage <= 12.645) and (age > 8.5) and (seller_type_Dealer <= 0.5) then class: 450000 (proba: 100.0%) | based on 1 samples\n",
      "if (max_power > 172.915) and (age > 4.5) and (age > 6.5) and (age > 9.5) and (fuel_Petrol > 0.5) and (companyname_Mercedes-Benz <= 0.5) and (age <= 11.0) and (owner_First Owner > 0.5) then class: 450000 (proba: 100.0%) | based on 1 samples\n",
      "if (max_power > 172.915) and (age > 4.5) and (age > 6.5) and (age > 9.5) and (fuel_Petrol > 0.5) and (companyname_Mercedes-Benz > 0.5) and (age <= 14.0) and (owner_Second Owner <= 0.5) then class: 450000 (proba: 100.0%) | based on 1 samples\n",
      "if (max_power > 172.915) and (age > 4.5) and (age > 6.5) and (age <= 9.5) and (max_power > 202.15) and (mileage > 12.645) and (age <= 7.5) and (owner_Second Owner <= 0.5) then class: 450000 (proba: 100.0%) | based on 1 samples\n",
      "if (max_power > 172.915) and (age <= 4.5) and (max_power > 185.87) and (engine > 1980.0) and (companyname_Ford <= 0.5) and (mileage <= 22.425) and (mileage <= 17.605) and (age <= 2.5) then class: 450000 (proba: 100.0%) | based on 1 samples\n",
      "if (max_power > 172.915) and (age > 4.5) and (age <= 6.5) and (max_power <= 214.0) and (mileage <= 18.79) and (fuel_Petrol > 0.5) and (km_driven <= 31500.0) and (engine <= 1894.5) then class: 450000 (proba: 100.0%) | based on 1 samples\n",
      "if (max_power > 172.915) and (age > 4.5) and (age <= 6.5) and (max_power > 214.0) and (seats_4.0 > 0.5) then class: 450000 (proba: 100.0%) | based on 1 samples\n",
      "if (max_power > 172.915) and (age <= 4.5) and (max_power <= 185.87) and (engine > 1993.0) and (max_power <= 174.535) and (mileage <= 13.57) and (seller_type_Individual > 0.5) then class: 450000 (proba: 100.0%) | based on 1 samples\n",
      "if (max_power <= 172.915) and (max_power > 147.97) and (km_driven > 21500.0) and (age > 8.5) and (fuel_Petrol <= 0.5) and (mileage <= 10.7) and (age <= 10.0) then class: 450000 (proba: 100.0%) | based on 1 samples\n",
      "if (max_power <= 172.915) and (max_power > 147.97) and (km_driven > 21500.0) and (age > 8.5) and (fuel_Petrol <= 0.5) and (mileage <= 10.7) and (age > 10.0) and (max_power > 167.5) then class: 450000 (proba: 100.0%) | based on 1 samples\n",
      "if (max_power <= 172.915) and (max_power > 147.97) and (km_driven > 21500.0) and (age > 8.5) and (fuel_Petrol > 0.5) and (age <= 13.5) and (mileage <= 10.95) then class: 450000 (proba: 100.0%) | based on 1 samples\n",
      "if (max_power <= 172.915) and (max_power > 147.97) and (km_driven > 21500.0) and (age > 8.5) and (fuel_Petrol > 0.5) and (age > 13.5) and (companyname_Honda <= 0.5) and (companyname_Toyota > 0.5) then class: 450000 (proba: 100.0%) | based on 1 samples\n",
      "if (max_power > 172.915) and (age <= 4.5) and (max_power <= 185.87) and (engine <= 1993.0) and (engine > 1883.0) and (seller_type_Individual <= 0.5) and (engine <= 1979.5) then class: 450000 (proba: 100.0%) | based on 1 samples\n",
      "if (max_power > 172.915) and (age <= 4.5) and (max_power <= 185.87) and (engine <= 1993.0) and (engine > 1883.0) and (seller_type_Individual > 0.5) then class: 450000 (proba: 100.0%) | based on 1 samples\n",
      "if (max_power > 172.915) and (age <= 4.5) and (max_power <= 185.87) and (engine > 1993.0) and (max_power <= 174.535) and (mileage <= 13.57) and (seller_type_Individual <= 0.5) then class: 450000 (proba: 100.0%) | based on 1 samples\n",
      "if (max_power > 172.915) and (age <= 4.5) and (max_power <= 185.87) and (engine > 1993.0) and (max_power <= 174.535) and (mileage > 13.57) and (km_driven <= 48000.0) and (mileage > 14.64) then class: 450000 (proba: 100.0%) | based on 1 samples\n",
      "if (max_power > 172.915) and (age > 4.5) and (age <= 6.5) and (max_power > 214.0) and (seats_4.0 <= 0.5) and (seller_type_Dealer > 0.5) and (km_driven > 58500.0) then class: 450000 (proba: 100.0%) | based on 1 samples\n",
      "if (max_power > 172.915) and (age <= 4.5) and (max_power <= 185.87) and (engine > 1993.0) and (max_power > 174.535) and (km_driven > 18500.0) then class: 450000 (proba: 100.0%) | based on 1 samples\n",
      "if (max_power > 172.915) and (age <= 4.5) and (max_power > 185.87) and (engine <= 1980.0) and (mileage <= 16.135) and (seller_type_Dealer <= 0.5) then class: 450000 (proba: 100.0%) | based on 1 samples\n",
      "if (max_power > 172.915) and (age <= 4.5) and (max_power > 185.87) and (engine <= 1980.0) and (mileage <= 16.135) and (seller_type_Dealer > 0.5) and (km_driven <= 17550.0) and (km_driven <= 9650.0) then class: 450000 (proba: 100.0%) | based on 1 samples\n",
      "if (max_power > 172.915) and (age <= 4.5) and (max_power > 185.87) and (engine <= 1980.0) and (mileage <= 16.135) and (seller_type_Dealer > 0.5) and (km_driven <= 17550.0) and (km_driven > 9650.0) then class: 450000 (proba: 100.0%) | based on 1 samples\n",
      "if (max_power > 172.915) and (age <= 4.5) and (max_power > 185.87) and (engine <= 1980.0) and (mileage <= 16.135) and (seller_type_Dealer > 0.5) and (km_driven > 17550.0) then class: 450000 (proba: 100.0%) | based on 1 samples\n",
      "if (max_power > 172.915) and (age <= 4.5) and (max_power > 185.87) and (engine <= 1980.0) and (mileage > 16.135) and (max_power <= 187.87) then class: 450000 (proba: 100.0%) | based on 1 samples\n",
      "if (max_power > 172.915) and (age <= 4.5) and (max_power > 185.87) and (engine <= 1980.0) and (mileage > 16.135) and (max_power > 187.87) and (km_driven <= 18500.0) then class: 450000 (proba: 100.0%) | based on 1 samples\n",
      "if (max_power <= 172.915) and (max_power > 147.97) and (km_driven > 21500.0) and (age <= 8.5) and (engine > 2188.5) and (km_driven > 72544.5) and (companyname_Ford > 0.5) then class: 450000 (proba: 100.0%) | based on 1 samples\n",
      "if (max_power <= 172.915) and (max_power > 147.97) and (km_driven > 21500.0) and (age <= 8.5) and (engine > 2188.5) and (km_driven > 72544.5) and (companyname_Ford <= 0.5) and (companyname_Isuzu > 0.5) then class: 450000 (proba: 100.0%) | based on 1 samples\n",
      "if (max_power <= 172.915) and (max_power > 147.97) and (km_driven > 21500.0) and (age <= 8.5) and (engine > 2188.5) and (km_driven <= 72544.5) and (age > 7.5) and (transmission_Manual > 0.5) then class: 450000 (proba: 100.0%) | based on 1 samples\n",
      "if (max_power <= 172.915) and (max_power > 147.97) and (km_driven > 21500.0) and (age <= 8.5) and (engine > 2188.5) and (km_driven <= 72544.5) and (age > 7.5) and (transmission_Manual <= 0.5) then class: 450000 (proba: 100.0%) | based on 1 samples\n",
      "if (max_power > 172.915) and (age > 4.5) and (age <= 6.5) and (max_power > 214.0) and (seats_4.0 <= 0.5) and (seller_type_Dealer > 0.5) and (km_driven <= 58500.0) and (km_driven > 42000.0) then class: 450000 (proba: 100.0%) | based on 1 samples\n",
      "if (max_power <= 172.915) and (max_power <= 147.97) and (age > 8.5) and (max_power <= 98.145) and (age > 11.5) and (age <= 14.5) and (max_power > 62.55) and (companyname_BMW > 0.5) then class: 450000 (proba: 100.0%) | based on 1 samples\n",
      "if (max_power > 172.915) and (age > 4.5) and (age <= 6.5) and (max_power > 214.0) and (seats_4.0 <= 0.5) and (seller_type_Dealer <= 0.5) and (fuel_Diesel > 0.5) then class: 450000 (proba: 100.0%) | based on 1 samples\n",
      "if (max_power <= 172.915) and (max_power <= 147.97) and (age > 8.5) and (max_power > 98.145) and (age <= 10.5) and (companyname_Toyota <= 0.5) and (max_power <= 139.05) and (mileage <= 5.785) then class: 450000 (proba: 100.0%) | based on 1 samples\n",
      "if (max_power > 172.915) and (age > 4.5) and (age <= 6.5) and (max_power <= 214.0) and (mileage > 18.79) and (max_power > 189.0) and (km_driven <= 21831.5) then class: 450000 (proba: 100.0%) | based on 1 samples\n",
      "if (max_power > 172.915) and (age > 4.5) and (age <= 6.5) and (max_power <= 214.0) and (mileage <= 18.79) and (fuel_Petrol > 0.5) and (km_driven > 31500.0) and (mileage > 15.52) then class: 450000 (proba: 100.0%) | based on 1 samples\n",
      "if (max_power > 172.915) and (age > 4.5) and (age <= 6.5) and (max_power <= 214.0) and (mileage <= 18.79) and (fuel_Petrol <= 0.5) and (owner_Second Owner > 0.5) and (companyname_Chevrolet > 0.5) then class: 450000 (proba: 100.0%) | based on 1 samples\n",
      "if (max_power > 172.915) and (age > 4.5) and (age <= 6.5) and (max_power <= 214.0) and (mileage <= 18.79) and (fuel_Petrol <= 0.5) and (owner_Second Owner <= 0.5) and (companyname_Volvo > 0.5) then class: 450000 (proba: 100.0%) | based on 1 samples\n",
      "if (max_power > 172.915) and (age <= 4.5) and (max_power > 185.87) and (engine > 1980.0) and (companyname_Ford > 0.5) and (km_driven > 23500.0) then class: 450000 (proba: 100.0%) | based on 1 samples\n",
      "if (max_power <= 172.915) and (max_power > 147.97) and (km_driven <= 21500.0) and (companyname_Land <= 0.5) and (companyname_Mercedes-Benz <= 0.5) and (max_power <= 151.435) and (seats_7.0 > 0.5) then class: 450000 (proba: 100.0%) | based on 1 samples\n",
      "if (max_power <= 172.915) and (max_power > 147.97) and (km_driven > 21500.0) and (age <= 8.5) and (engine <= 2188.5) and (age <= 5.5) and (companyname_Mercedes-Benz <= 0.5) and (companyname_Skoda > 0.5) then class: 450000 (proba: 100.0%) | based on 1 samples\n",
      "if (max_power <= 172.915) and (max_power > 147.97) and (km_driven > 21500.0) and (age <= 8.5) and (engine <= 2188.5) and (age <= 5.5) and (companyname_Mercedes-Benz > 0.5) then class: 450000 (proba: 100.0%) | based on 1 samples\n",
      "if (max_power <= 172.915) and (max_power > 147.97) and (km_driven > 21500.0) and (age <= 8.5) and (engine <= 2188.5) and (age > 5.5) and (seller_type_Dealer <= 0.5) and (km_driven > 111300.0) then class: 450000 (proba: 100.0%) | based on 1 samples\n",
      "if (max_power <= 172.915) and (max_power > 147.97) and (km_driven > 21500.0) and (age <= 8.5) and (engine <= 2188.5) and (age > 5.5) and (seller_type_Dealer > 0.5) then class: 450000 (proba: 100.0%) | based on 1 samples\n",
      "if (max_power > 172.915) and (age <= 4.5) and (max_power > 185.87) and (engine > 1980.0) and (companyname_Ford <= 0.5) and (mileage > 22.425) and (km_driven <= 23300.0) and (km_driven > 13550.0) then class: 450000 (proba: 100.0%) | based on 1 samples\n",
      "if (max_power > 172.915) and (age > 4.5) and (age > 6.5) and (age > 9.5) and (fuel_Petrol > 0.5) and (companyname_Mercedes-Benz > 0.5) and (age > 14.0) and (transmission_Manual > 0.5) then class: 450000 (proba: 100.0%) | based on 1 samples\n"
     ]
    }
   ],
   "source": [
    "rules = get_rules(treemodel,X.columns,y)\n",
    "for r in rules:\n",
    "    print(r)"
   ]
  },
  {
   "cell_type": "code",
   "execution_count": 102,
   "id": "462de4a6",
   "metadata": {},
   "outputs": [
    {
     "data": {
      "text/html": [
       "<div>\n",
       "<style scoped>\n",
       "    .dataframe tbody tr th:only-of-type {\n",
       "        vertical-align: middle;\n",
       "    }\n",
       "\n",
       "    .dataframe tbody tr th {\n",
       "        vertical-align: top;\n",
       "    }\n",
       "\n",
       "    .dataframe thead th {\n",
       "        text-align: right;\n",
       "    }\n",
       "</style>\n",
       "<table border=\"1\" class=\"dataframe\">\n",
       "  <thead>\n",
       "    <tr style=\"text-align: right;\">\n",
       "      <th></th>\n",
       "      <th>0</th>\n",
       "    </tr>\n",
       "  </thead>\n",
       "  <tbody>\n",
       "    <tr>\n",
       "      <th>0.741540</th>\n",
       "      <td>max_power</td>\n",
       "    </tr>\n",
       "    <tr>\n",
       "      <th>0.195802</th>\n",
       "      <td>age</td>\n",
       "    </tr>\n",
       "    <tr>\n",
       "      <th>0.015198</th>\n",
       "      <td>engine</td>\n",
       "    </tr>\n",
       "    <tr>\n",
       "      <th>0.012385</th>\n",
       "      <td>mileage</td>\n",
       "    </tr>\n",
       "    <tr>\n",
       "      <th>0.011011</th>\n",
       "      <td>km_driven</td>\n",
       "    </tr>\n",
       "    <tr>\n",
       "      <th>0.005073</th>\n",
       "      <td>seats_4.0</td>\n",
       "    </tr>\n",
       "    <tr>\n",
       "      <th>0.003433</th>\n",
       "      <td>companyname_Land</td>\n",
       "    </tr>\n",
       "    <tr>\n",
       "      <th>0.002610</th>\n",
       "      <td>companyname_Mercedes-Benz</td>\n",
       "    </tr>\n",
       "    <tr>\n",
       "      <th>0.002441</th>\n",
       "      <td>companyname_Ford</td>\n",
       "    </tr>\n",
       "    <tr>\n",
       "      <th>0.002160</th>\n",
       "      <td>fuel_Petrol</td>\n",
       "    </tr>\n",
       "    <tr>\n",
       "      <th>0.002146</th>\n",
       "      <td>companyname_Toyota</td>\n",
       "    </tr>\n",
       "    <tr>\n",
       "      <th>0.001552</th>\n",
       "      <td>seller_type_Dealer</td>\n",
       "    </tr>\n",
       "    <tr>\n",
       "      <th>0.000911</th>\n",
       "      <td>companyname_Tata</td>\n",
       "    </tr>\n",
       "    <tr>\n",
       "      <th>0.000499</th>\n",
       "      <td>companyname_BMW</td>\n",
       "    </tr>\n",
       "    <tr>\n",
       "      <th>0.000393</th>\n",
       "      <td>owner_Second Owner</td>\n",
       "    </tr>\n",
       "    <tr>\n",
       "      <th>0.000392</th>\n",
       "      <td>seats_7.0</td>\n",
       "    </tr>\n",
       "    <tr>\n",
       "      <th>0.000392</th>\n",
       "      <td>companyname_Kia</td>\n",
       "    </tr>\n",
       "    <tr>\n",
       "      <th>0.000374</th>\n",
       "      <td>companyname_Mahindra</td>\n",
       "    </tr>\n",
       "    <tr>\n",
       "      <th>0.000336</th>\n",
       "      <td>companyname_Skoda</td>\n",
       "    </tr>\n",
       "    <tr>\n",
       "      <th>0.000304</th>\n",
       "      <td>transmission_Manual</td>\n",
       "    </tr>\n",
       "    <tr>\n",
       "      <th>0.000214</th>\n",
       "      <td>companyname_Jaguar</td>\n",
       "    </tr>\n",
       "    <tr>\n",
       "      <th>0.000174</th>\n",
       "      <td>fuel_Diesel</td>\n",
       "    </tr>\n",
       "    <tr>\n",
       "      <th>0.000162</th>\n",
       "      <td>companyname_Chevrolet</td>\n",
       "    </tr>\n",
       "    <tr>\n",
       "      <th>0.000157</th>\n",
       "      <td>owner_First Owner</td>\n",
       "    </tr>\n",
       "    <tr>\n",
       "      <th>0.000106</th>\n",
       "      <td>companyname_Volvo</td>\n",
       "    </tr>\n",
       "    <tr>\n",
       "      <th>0.000059</th>\n",
       "      <td>companyname_Maruti</td>\n",
       "    </tr>\n",
       "    <tr>\n",
       "      <th>0.000047</th>\n",
       "      <td>seats_5.0</td>\n",
       "    </tr>\n",
       "    <tr>\n",
       "      <th>0.000045</th>\n",
       "      <td>seats_8.0</td>\n",
       "    </tr>\n",
       "    <tr>\n",
       "      <th>0.000036</th>\n",
       "      <td>companyname_Isuzu</td>\n",
       "    </tr>\n",
       "    <tr>\n",
       "      <th>0.000027</th>\n",
       "      <td>seller_type_Individual</td>\n",
       "    </tr>\n",
       "    <tr>\n",
       "      <th>0.000014</th>\n",
       "      <td>companyname_Honda</td>\n",
       "    </tr>\n",
       "    <tr>\n",
       "      <th>0.000009</th>\n",
       "      <td>owner_Third Owner</td>\n",
       "    </tr>\n",
       "    <tr>\n",
       "      <th>0.000000</th>\n",
       "      <td>seats_9.0</td>\n",
       "    </tr>\n",
       "    <tr>\n",
       "      <th>0.000000</th>\n",
       "      <td>companyname_Mitsubishi</td>\n",
       "    </tr>\n",
       "    <tr>\n",
       "      <th>0.000000</th>\n",
       "      <td>transmission_Automatic</td>\n",
       "    </tr>\n",
       "    <tr>\n",
       "      <th>0.000000</th>\n",
       "      <td>seller_type_Trustmark Dealer</td>\n",
       "    </tr>\n",
       "    <tr>\n",
       "      <th>0.000000</th>\n",
       "      <td>companyname_Opel</td>\n",
       "    </tr>\n",
       "    <tr>\n",
       "      <th>0.000000</th>\n",
       "      <td>companyname_Nissan</td>\n",
       "    </tr>\n",
       "    <tr>\n",
       "      <th>0.000000</th>\n",
       "      <td>companyname_Lexus</td>\n",
       "    </tr>\n",
       "    <tr>\n",
       "      <th>0.000000</th>\n",
       "      <td>companyname_Peugeot</td>\n",
       "    </tr>\n",
       "    <tr>\n",
       "      <th>0.000000</th>\n",
       "      <td>companyname_Renault</td>\n",
       "    </tr>\n",
       "    <tr>\n",
       "      <th>0.000000</th>\n",
       "      <td>fuel_LPG</td>\n",
       "    </tr>\n",
       "    <tr>\n",
       "      <th>0.000000</th>\n",
       "      <td>fuel_CNG</td>\n",
       "    </tr>\n",
       "    <tr>\n",
       "      <th>0.000000</th>\n",
       "      <td>companyname_Volkswagen</td>\n",
       "    </tr>\n",
       "    <tr>\n",
       "      <th>0.000000</th>\n",
       "      <td>companyname_MG</td>\n",
       "    </tr>\n",
       "    <tr>\n",
       "      <th>0.000000</th>\n",
       "      <td>companyname_Jeep</td>\n",
       "    </tr>\n",
       "    <tr>\n",
       "      <th>0.000000</th>\n",
       "      <td>owner_Fourth &amp; Above Owner</td>\n",
       "    </tr>\n",
       "    <tr>\n",
       "      <th>0.000000</th>\n",
       "      <td>owner_Test Drive Car</td>\n",
       "    </tr>\n",
       "    <tr>\n",
       "      <th>0.000000</th>\n",
       "      <td>seats_10.0</td>\n",
       "    </tr>\n",
       "    <tr>\n",
       "      <th>0.000000</th>\n",
       "      <td>companyname_Hyundai</td>\n",
       "    </tr>\n",
       "    <tr>\n",
       "      <th>0.000000</th>\n",
       "      <td>seats_2.0</td>\n",
       "    </tr>\n",
       "    <tr>\n",
       "      <th>0.000000</th>\n",
       "      <td>companyname_Force</td>\n",
       "    </tr>\n",
       "    <tr>\n",
       "      <th>0.000000</th>\n",
       "      <td>companyname_Fiat</td>\n",
       "    </tr>\n",
       "    <tr>\n",
       "      <th>0.000000</th>\n",
       "      <td>companyname_Datsun</td>\n",
       "    </tr>\n",
       "    <tr>\n",
       "      <th>0.000000</th>\n",
       "      <td>companyname_Daewoo</td>\n",
       "    </tr>\n",
       "    <tr>\n",
       "      <th>0.000000</th>\n",
       "      <td>seats_6.0</td>\n",
       "    </tr>\n",
       "    <tr>\n",
       "      <th>0.000000</th>\n",
       "      <td>companyname_Ashok</td>\n",
       "    </tr>\n",
       "    <tr>\n",
       "      <th>0.000000</th>\n",
       "      <td>companyname_Ambassador</td>\n",
       "    </tr>\n",
       "    <tr>\n",
       "      <th>0.000000</th>\n",
       "      <td>seats_14.0</td>\n",
       "    </tr>\n",
       "    <tr>\n",
       "      <th>0.000000</th>\n",
       "      <td>companyname_Audi</td>\n",
       "    </tr>\n",
       "  </tbody>\n",
       "</table>\n",
       "</div>"
      ],
      "text/plain": [
       "                                     0\n",
       "0.741540                     max_power\n",
       "0.195802                           age\n",
       "0.015198                        engine\n",
       "0.012385                       mileage\n",
       "0.011011                     km_driven\n",
       "0.005073                     seats_4.0\n",
       "0.003433              companyname_Land\n",
       "0.002610     companyname_Mercedes-Benz\n",
       "0.002441              companyname_Ford\n",
       "0.002160                   fuel_Petrol\n",
       "0.002146            companyname_Toyota\n",
       "0.001552            seller_type_Dealer\n",
       "0.000911              companyname_Tata\n",
       "0.000499               companyname_BMW\n",
       "0.000393            owner_Second Owner\n",
       "0.000392                     seats_7.0\n",
       "0.000392               companyname_Kia\n",
       "0.000374          companyname_Mahindra\n",
       "0.000336             companyname_Skoda\n",
       "0.000304           transmission_Manual\n",
       "0.000214            companyname_Jaguar\n",
       "0.000174                   fuel_Diesel\n",
       "0.000162         companyname_Chevrolet\n",
       "0.000157             owner_First Owner\n",
       "0.000106             companyname_Volvo\n",
       "0.000059            companyname_Maruti\n",
       "0.000047                     seats_5.0\n",
       "0.000045                     seats_8.0\n",
       "0.000036             companyname_Isuzu\n",
       "0.000027        seller_type_Individual\n",
       "0.000014             companyname_Honda\n",
       "0.000009             owner_Third Owner\n",
       "0.000000                     seats_9.0\n",
       "0.000000        companyname_Mitsubishi\n",
       "0.000000        transmission_Automatic\n",
       "0.000000  seller_type_Trustmark Dealer\n",
       "0.000000              companyname_Opel\n",
       "0.000000            companyname_Nissan\n",
       "0.000000             companyname_Lexus\n",
       "0.000000           companyname_Peugeot\n",
       "0.000000           companyname_Renault\n",
       "0.000000                      fuel_LPG\n",
       "0.000000                      fuel_CNG\n",
       "0.000000        companyname_Volkswagen\n",
       "0.000000                companyname_MG\n",
       "0.000000              companyname_Jeep\n",
       "0.000000    owner_Fourth & Above Owner\n",
       "0.000000          owner_Test Drive Car\n",
       "0.000000                    seats_10.0\n",
       "0.000000           companyname_Hyundai\n",
       "0.000000                     seats_2.0\n",
       "0.000000             companyname_Force\n",
       "0.000000              companyname_Fiat\n",
       "0.000000            companyname_Datsun\n",
       "0.000000            companyname_Daewoo\n",
       "0.000000                     seats_6.0\n",
       "0.000000             companyname_Ashok\n",
       "0.000000        companyname_Ambassador\n",
       "0.000000                    seats_14.0\n",
       "0.000000              companyname_Audi"
      ]
     },
     "execution_count": 102,
     "metadata": {},
     "output_type": "execute_result"
    }
   ],
   "source": [
    "pd.DataFrame(X.columns,treemodel.feature_importances_,).sort_index(ascending=False)"
   ]
  },
  {
   "cell_type": "code",
   "execution_count": 103,
   "id": "830e6d22",
   "metadata": {},
   "outputs": [],
   "source": [
    "from sklearn.ensemble import RandomForestRegressor"
   ]
  },
  {
   "cell_type": "code",
   "execution_count": 104,
   "id": "4c87ffec",
   "metadata": {},
   "outputs": [],
   "source": [
    "RF=RandomForestRegressor(n_estimators=1000).fit(X,y)"
   ]
  },
  {
   "cell_type": "code",
   "execution_count": 105,
   "id": "d7498cc6",
   "metadata": {},
   "outputs": [
    {
     "data": {
      "text/plain": [
       "0.9958427953159158"
      ]
     },
     "execution_count": 105,
     "metadata": {},
     "output_type": "execute_result"
    }
   ],
   "source": [
    "RF.score(X,y)"
   ]
  },
  {
   "cell_type": "code",
   "execution_count": 106,
   "id": "f2a03e4e",
   "metadata": {},
   "outputs": [],
   "source": [
    "RFpred = RF.predict(X)"
   ]
  },
  {
   "cell_type": "code",
   "execution_count": 107,
   "id": "40712923",
   "metadata": {},
   "outputs": [],
   "source": [
    "RFresid = y-RFpred"
   ]
  },
  {
   "cell_type": "code",
   "execution_count": 108,
   "id": "3c59496d",
   "metadata": {},
   "outputs": [
    {
     "data": {
      "text/plain": [
       "51981.10978513397"
      ]
     },
     "execution_count": 108,
     "metadata": {},
     "output_type": "execute_result"
    }
   ],
   "source": [
    "np.sqrt(np.mean(RFresid**2))"
   ]
  },
  {
   "cell_type": "code",
   "execution_count": 109,
   "id": "6b118ee4",
   "metadata": {},
   "outputs": [
    {
     "data": {
      "text/html": [
       "<div>\n",
       "<style scoped>\n",
       "    .dataframe tbody tr th:only-of-type {\n",
       "        vertical-align: middle;\n",
       "    }\n",
       "\n",
       "    .dataframe tbody tr th {\n",
       "        vertical-align: top;\n",
       "    }\n",
       "\n",
       "    .dataframe thead th {\n",
       "        text-align: right;\n",
       "    }\n",
       "</style>\n",
       "<table border=\"1\" class=\"dataframe\">\n",
       "  <thead>\n",
       "    <tr style=\"text-align: right;\">\n",
       "      <th></th>\n",
       "      <th>0</th>\n",
       "    </tr>\n",
       "  </thead>\n",
       "  <tbody>\n",
       "    <tr>\n",
       "      <th>max_power</th>\n",
       "      <td>0.72</td>\n",
       "    </tr>\n",
       "    <tr>\n",
       "      <th>age</th>\n",
       "      <td>0.20</td>\n",
       "    </tr>\n",
       "    <tr>\n",
       "      <th>km_driven</th>\n",
       "      <td>0.02</td>\n",
       "    </tr>\n",
       "    <tr>\n",
       "      <th>engine</th>\n",
       "      <td>0.01</td>\n",
       "    </tr>\n",
       "    <tr>\n",
       "      <th>mileage</th>\n",
       "      <td>0.01</td>\n",
       "    </tr>\n",
       "    <tr>\n",
       "      <th>companyname_Hyundai</th>\n",
       "      <td>0.00</td>\n",
       "    </tr>\n",
       "    <tr>\n",
       "      <th>companyname_Kia</th>\n",
       "      <td>0.00</td>\n",
       "    </tr>\n",
       "    <tr>\n",
       "      <th>companyname_Jeep</th>\n",
       "      <td>0.00</td>\n",
       "    </tr>\n",
       "    <tr>\n",
       "      <th>companyname_Jaguar</th>\n",
       "      <td>0.00</td>\n",
       "    </tr>\n",
       "    <tr>\n",
       "      <th>companyname_Isuzu</th>\n",
       "      <td>0.00</td>\n",
       "    </tr>\n",
       "    <tr>\n",
       "      <th>companyname_Force</th>\n",
       "      <td>0.00</td>\n",
       "    </tr>\n",
       "    <tr>\n",
       "      <th>companyname_Honda</th>\n",
       "      <td>0.00</td>\n",
       "    </tr>\n",
       "    <tr>\n",
       "      <th>companyname_Ford</th>\n",
       "      <td>0.00</td>\n",
       "    </tr>\n",
       "    <tr>\n",
       "      <th>companyname_Lexus</th>\n",
       "      <td>0.00</td>\n",
       "    </tr>\n",
       "    <tr>\n",
       "      <th>companyname_Fiat</th>\n",
       "      <td>0.00</td>\n",
       "    </tr>\n",
       "    <tr>\n",
       "      <th>companyname_Datsun</th>\n",
       "      <td>0.00</td>\n",
       "    </tr>\n",
       "    <tr>\n",
       "      <th>companyname_Land</th>\n",
       "      <td>0.00</td>\n",
       "    </tr>\n",
       "    <tr>\n",
       "      <th>companyname_Mahindra</th>\n",
       "      <td>0.00</td>\n",
       "    </tr>\n",
       "    <tr>\n",
       "      <th>companyname_MG</th>\n",
       "      <td>0.00</td>\n",
       "    </tr>\n",
       "    <tr>\n",
       "      <th>companyname_Chevrolet</th>\n",
       "      <td>0.00</td>\n",
       "    </tr>\n",
       "    <tr>\n",
       "      <th>companyname_Maruti</th>\n",
       "      <td>0.00</td>\n",
       "    </tr>\n",
       "    <tr>\n",
       "      <th>companyname_Mercedes-Benz</th>\n",
       "      <td>0.00</td>\n",
       "    </tr>\n",
       "    <tr>\n",
       "      <th>companyname_Mitsubishi</th>\n",
       "      <td>0.00</td>\n",
       "    </tr>\n",
       "    <tr>\n",
       "      <th>companyname_Nissan</th>\n",
       "      <td>0.00</td>\n",
       "    </tr>\n",
       "    <tr>\n",
       "      <th>companyname_Opel</th>\n",
       "      <td>0.00</td>\n",
       "    </tr>\n",
       "    <tr>\n",
       "      <th>companyname_Peugeot</th>\n",
       "      <td>0.00</td>\n",
       "    </tr>\n",
       "    <tr>\n",
       "      <th>companyname_Renault</th>\n",
       "      <td>0.00</td>\n",
       "    </tr>\n",
       "    <tr>\n",
       "      <th>companyname_Skoda</th>\n",
       "      <td>0.00</td>\n",
       "    </tr>\n",
       "    <tr>\n",
       "      <th>companyname_Tata</th>\n",
       "      <td>0.00</td>\n",
       "    </tr>\n",
       "    <tr>\n",
       "      <th>companyname_Toyota</th>\n",
       "      <td>0.00</td>\n",
       "    </tr>\n",
       "    <tr>\n",
       "      <th>companyname_Volkswagen</th>\n",
       "      <td>0.00</td>\n",
       "    </tr>\n",
       "    <tr>\n",
       "      <th>companyname_Daewoo</th>\n",
       "      <td>0.00</td>\n",
       "    </tr>\n",
       "    <tr>\n",
       "      <th>companyname_Audi</th>\n",
       "      <td>0.00</td>\n",
       "    </tr>\n",
       "    <tr>\n",
       "      <th>companyname_BMW</th>\n",
       "      <td>0.00</td>\n",
       "    </tr>\n",
       "    <tr>\n",
       "      <th>owner_Second Owner</th>\n",
       "      <td>0.00</td>\n",
       "    </tr>\n",
       "    <tr>\n",
       "      <th>fuel_CNG</th>\n",
       "      <td>0.00</td>\n",
       "    </tr>\n",
       "    <tr>\n",
       "      <th>fuel_Diesel</th>\n",
       "      <td>0.00</td>\n",
       "    </tr>\n",
       "    <tr>\n",
       "      <th>fuel_LPG</th>\n",
       "      <td>0.00</td>\n",
       "    </tr>\n",
       "    <tr>\n",
       "      <th>fuel_Petrol</th>\n",
       "      <td>0.00</td>\n",
       "    </tr>\n",
       "    <tr>\n",
       "      <th>seller_type_Dealer</th>\n",
       "      <td>0.00</td>\n",
       "    </tr>\n",
       "    <tr>\n",
       "      <th>seller_type_Individual</th>\n",
       "      <td>0.00</td>\n",
       "    </tr>\n",
       "    <tr>\n",
       "      <th>seller_type_Trustmark Dealer</th>\n",
       "      <td>0.00</td>\n",
       "    </tr>\n",
       "    <tr>\n",
       "      <th>transmission_Automatic</th>\n",
       "      <td>0.00</td>\n",
       "    </tr>\n",
       "    <tr>\n",
       "      <th>transmission_Manual</th>\n",
       "      <td>0.00</td>\n",
       "    </tr>\n",
       "    <tr>\n",
       "      <th>owner_First Owner</th>\n",
       "      <td>0.00</td>\n",
       "    </tr>\n",
       "    <tr>\n",
       "      <th>owner_Fourth &amp; Above Owner</th>\n",
       "      <td>0.00</td>\n",
       "    </tr>\n",
       "    <tr>\n",
       "      <th>owner_Test Drive Car</th>\n",
       "      <td>0.00</td>\n",
       "    </tr>\n",
       "    <tr>\n",
       "      <th>companyname_Ashok</th>\n",
       "      <td>0.00</td>\n",
       "    </tr>\n",
       "    <tr>\n",
       "      <th>owner_Third Owner</th>\n",
       "      <td>0.00</td>\n",
       "    </tr>\n",
       "    <tr>\n",
       "      <th>seats_2.0</th>\n",
       "      <td>0.00</td>\n",
       "    </tr>\n",
       "    <tr>\n",
       "      <th>seats_4.0</th>\n",
       "      <td>0.00</td>\n",
       "    </tr>\n",
       "    <tr>\n",
       "      <th>seats_5.0</th>\n",
       "      <td>0.00</td>\n",
       "    </tr>\n",
       "    <tr>\n",
       "      <th>seats_6.0</th>\n",
       "      <td>0.00</td>\n",
       "    </tr>\n",
       "    <tr>\n",
       "      <th>seats_7.0</th>\n",
       "      <td>0.00</td>\n",
       "    </tr>\n",
       "    <tr>\n",
       "      <th>seats_8.0</th>\n",
       "      <td>0.00</td>\n",
       "    </tr>\n",
       "    <tr>\n",
       "      <th>seats_9.0</th>\n",
       "      <td>0.00</td>\n",
       "    </tr>\n",
       "    <tr>\n",
       "      <th>seats_10.0</th>\n",
       "      <td>0.00</td>\n",
       "    </tr>\n",
       "    <tr>\n",
       "      <th>seats_14.0</th>\n",
       "      <td>0.00</td>\n",
       "    </tr>\n",
       "    <tr>\n",
       "      <th>companyname_Ambassador</th>\n",
       "      <td>0.00</td>\n",
       "    </tr>\n",
       "    <tr>\n",
       "      <th>companyname_Volvo</th>\n",
       "      <td>0.00</td>\n",
       "    </tr>\n",
       "  </tbody>\n",
       "</table>\n",
       "</div>"
      ],
      "text/plain": [
       "                                 0\n",
       "max_power                     0.72\n",
       "age                           0.20\n",
       "km_driven                     0.02\n",
       "engine                        0.01\n",
       "mileage                       0.01\n",
       "companyname_Hyundai           0.00\n",
       "companyname_Kia               0.00\n",
       "companyname_Jeep              0.00\n",
       "companyname_Jaguar            0.00\n",
       "companyname_Isuzu             0.00\n",
       "companyname_Force             0.00\n",
       "companyname_Honda             0.00\n",
       "companyname_Ford              0.00\n",
       "companyname_Lexus             0.00\n",
       "companyname_Fiat              0.00\n",
       "companyname_Datsun            0.00\n",
       "companyname_Land              0.00\n",
       "companyname_Mahindra          0.00\n",
       "companyname_MG                0.00\n",
       "companyname_Chevrolet         0.00\n",
       "companyname_Maruti            0.00\n",
       "companyname_Mercedes-Benz     0.00\n",
       "companyname_Mitsubishi        0.00\n",
       "companyname_Nissan            0.00\n",
       "companyname_Opel              0.00\n",
       "companyname_Peugeot           0.00\n",
       "companyname_Renault           0.00\n",
       "companyname_Skoda             0.00\n",
       "companyname_Tata              0.00\n",
       "companyname_Toyota            0.00\n",
       "companyname_Volkswagen        0.00\n",
       "companyname_Daewoo            0.00\n",
       "companyname_Audi              0.00\n",
       "companyname_BMW               0.00\n",
       "owner_Second Owner            0.00\n",
       "fuel_CNG                      0.00\n",
       "fuel_Diesel                   0.00\n",
       "fuel_LPG                      0.00\n",
       "fuel_Petrol                   0.00\n",
       "seller_type_Dealer            0.00\n",
       "seller_type_Individual        0.00\n",
       "seller_type_Trustmark Dealer  0.00\n",
       "transmission_Automatic        0.00\n",
       "transmission_Manual           0.00\n",
       "owner_First Owner             0.00\n",
       "owner_Fourth & Above Owner    0.00\n",
       "owner_Test Drive Car          0.00\n",
       "companyname_Ashok             0.00\n",
       "owner_Third Owner             0.00\n",
       "seats_2.0                     0.00\n",
       "seats_4.0                     0.00\n",
       "seats_5.0                     0.00\n",
       "seats_6.0                     0.00\n",
       "seats_7.0                     0.00\n",
       "seats_8.0                     0.00\n",
       "seats_9.0                     0.00\n",
       "seats_10.0                    0.00\n",
       "seats_14.0                    0.00\n",
       "companyname_Ambassador        0.00\n",
       "companyname_Volvo             0.00"
      ]
     },
     "execution_count": 109,
     "metadata": {},
     "output_type": "execute_result"
    }
   ],
   "source": [
    "pd.DataFrame(np.round(RF.feature_importances_,2),\n",
    "             X.columns).sort_values(by=0,ascending=False)"
   ]
  },
  {
   "cell_type": "code",
   "execution_count": null,
   "id": "b9ad9297",
   "metadata": {},
   "outputs": [],
   "source": []
  }
 ],
 "metadata": {
  "kernelspec": {
   "display_name": "Python 3 (ipykernel)",
   "language": "python",
   "name": "python3"
  },
  "language_info": {
   "codemirror_mode": {
    "name": "ipython",
    "version": 3
   },
   "file_extension": ".py",
   "mimetype": "text/x-python",
   "name": "python",
   "nbconvert_exporter": "python",
   "pygments_lexer": "ipython3",
   "version": "3.11.3"
  }
 },
 "nbformat": 4,
 "nbformat_minor": 5
}
